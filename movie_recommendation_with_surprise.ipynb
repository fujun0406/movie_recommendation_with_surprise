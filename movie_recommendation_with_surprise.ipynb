{
 "cells": [
  {
   "cell_type": "markdown",
   "id": "grave-soviet",
   "metadata": {
    "papermill": {
     "duration": 0.048858,
     "end_time": "2021-07-26T06:10:31.688716",
     "exception": false,
     "start_time": "2021-07-26T06:10:31.639858",
     "status": "completed"
    },
    "tags": []
   },
   "source": [
    "# Movie Recommendations"
   ]
  },
  {
   "cell_type": "markdown",
   "id": "organizational-france",
   "metadata": {
    "papermill": {
     "duration": 0.046478,
     "end_time": "2021-07-26T06:10:31.782272",
     "exception": false,
     "start_time": "2021-07-26T06:10:31.735794",
     "status": "completed"
    },
    "tags": []
   },
   "source": [
    "[Recommender System](https://en.wikipedia.org/wiki/Recommender_system) is a system that predict ratings or preferences user may give to this item. It is a method to recommend things to people based on their past behaviour.We often sort or present as \"top-N\" recommendations which means recommendating people a set of N items from a large collection of items. In this method, there are many metrics to evaluate the results.\n",
    "\n",
    "The following metrics are commonly used for ranking evaluation of top-n recommender systems:\n",
    "* Mean Absoulte Error (MAE): It is the difference between actual values and predicted values.\n",
    "> MAE = $\\displaystyle \\frac{\\sum_{i=1}^{n} |y_i-\\hat{y_i}|}{n}$\n",
    "* Root Mean Square Error (RMSE): It is similar to MAE but it squared the residual then square root the whole term.\n",
    "> RMSE = $\\displaystyle \\sqrt{\\frac{\\sum_{i=1}^{n} (y_i-\\hat{y_i})^2}{n}}$\n",
    "* Hit Rate: After generating top-n recommendations for all of the users in testset if one of the recommendations in a user's top-n recommendations is something they actually rated then we consider that is a hit.\n",
    "> Hit Rate = The number of hit / the number of user\n",
    "* Average Reciporocal Hit Rank (ARHR):\n",
    "> ARHR = $\\displaystyle \\frac{\\sum_{i=1}^{hit} \\displaystyle \\frac{1}{rank_i}}{users}$\n",
    "* Cumulative Hit Rate (CHR): It is similar to the hit rate that shown above but we add a threshold for the test set so that we test on the movies that the person actually likes.\n",
    "* Coverage: That is the percentage of possible recommendations that system is able to provide.\n",
    "* Diversity: It is a measure of how broad a variety of recommending items.\n",
    "* Novelty: It is a measure of how popular are the items that system is recommending.\n",
    "\n",
    "In this project, we mainly use `surprise module` to build differnent recommender system to predict moving rating and provide recommendations."
   ]
  },
  {
   "cell_type": "markdown",
   "id": "respected-lexington",
   "metadata": {
    "papermill": {
     "duration": 0.04793,
     "end_time": "2021-07-26T06:10:31.877055",
     "exception": false,
     "start_time": "2021-07-26T06:10:31.829125",
     "status": "completed"
    },
    "tags": []
   },
   "source": [
    "## Table of Contents\n",
    "\n",
    "1. [Exploratory Data Analysis](#eda)\n",
    "    - 1.1 [Loading Data](#eda_loading_data)\n",
    "    - 1.2 [Genres](#eda_genres)\n",
    "    - 1.3 [Ratings](#eda_ratings)\n",
    "    - 1.4 [Years](#eda_years)\n",
    "2. [Building Models](#building_model)\n",
    "    - 2.1 [Loading Data](#m_loading_data)\n",
    "    - 2.2 [Pre-processing](#m_pre_processing)\n",
    "        - [Extract Information](#m_extract_information)\n",
    "        - [Extra Function](#m_extra_functionn)\n",
    "        - [Get Evaluation Dataset](#m_get_evaluation_dataset)\n",
    "        - [Evaluation Metrics](#m_evaluation_metrics)\n",
    "    - 2.3 [Algorithm](#m_algorithm)\n",
    "        - [SVD](#m_svd)\n",
    "        - [User-Based KNN](#m_userknn)\n",
    "        - [Item-Based KNN](#m_itemknn)\n",
    "        - [Restricted Boltzmann Machines](#m_rbm)\n",
    "        - [AutoEncoder](#m_ae)"
   ]
  },
  {
   "cell_type": "code",
   "execution_count": 1,
   "id": "sunset-halifax",
   "metadata": {
    "_cell_guid": "b1076dfc-b9ad-4769-8c92-a6c4dae69d19",
    "_uuid": "8f2839f25d086af736a60e9eeb907d3b93b6e0e5",
    "execution": {
     "iopub.execute_input": "2021-07-26T06:10:31.976610Z",
     "iopub.status.busy": "2021-07-26T06:10:31.975404Z",
     "iopub.status.idle": "2021-07-26T06:10:38.732729Z",
     "shell.execute_reply": "2021-07-26T06:10:38.733218Z",
     "shell.execute_reply.started": "2021-07-26T05:42:43.667557Z"
    },
    "papermill": {
     "duration": 6.809119,
     "end_time": "2021-07-26T06:10:38.733508",
     "exception": false,
     "start_time": "2021-07-26T06:10:31.924389",
     "status": "completed"
    },
    "tags": []
   },
   "outputs": [
    {
     "name": "stdout",
     "output_type": "stream",
     "text": [
      "/kaggle/input/movielens/movies.csv\n",
      "/kaggle/input/movielens/ratings.csv\n",
      "/kaggle/input/movielens/README.txt\n",
      "/kaggle/input/movielens/tags.csv\n",
      "/kaggle/input/movielens/links.csv\n"
     ]
    }
   ],
   "source": [
    "import warnings\n",
    "warnings.filterwarnings('always')\n",
    "warnings.filterwarnings('ignore')\n",
    "import os\n",
    "for dirname, _, filenames in os.walk('/kaggle/input'):\n",
    "    for filename in filenames:\n",
    "        print(os.path.join(dirname, filename))\n",
    "\n",
    "\n",
    "import numpy as np\n",
    "import pandas as pd\n",
    "import matplotlib.pyplot as plt\n",
    "import seaborn as sns\n",
    "import csv\n",
    "from collections import defaultdict\n",
    "import re\n",
    "import itertools\n",
    "import surprise\n",
    "from surprise import Dataset, Reader\n",
    "from surprise import AlgoBase, PredictionImpossible\n",
    "from surprise import SVD, KNNBasic, KNNBaseline, accuracy\n",
    "from surprise.model_selection import train_test_split, LeaveOneOut, GridSearchCV\n",
    "import tensorflow as tf\n"
   ]
  },
  {
   "cell_type": "markdown",
   "id": "functional-intent",
   "metadata": {
    "papermill": {
     "duration": 0.046987,
     "end_time": "2021-07-26T06:10:38.828457",
     "exception": false,
     "start_time": "2021-07-26T06:10:38.781470",
     "status": "completed"
    },
    "tags": []
   },
   "source": [
    "## 1. <a id='eda'></a>Exploratory Data Analysis"
   ]
  },
  {
   "cell_type": "markdown",
   "id": "continent-display",
   "metadata": {
    "papermill": {
     "duration": 0.047811,
     "end_time": "2021-07-26T06:10:38.924562",
     "exception": false,
     "start_time": "2021-07-26T06:10:38.876751",
     "status": "completed"
    },
    "tags": []
   },
   "source": [
    "### <a id='eda_loading_data'></a>1.1 Loading Data"
   ]
  },
  {
   "cell_type": "code",
   "execution_count": 2,
   "id": "excessive-metabolism",
   "metadata": {
    "execution": {
     "iopub.execute_input": "2021-07-26T06:10:39.022749Z",
     "iopub.status.busy": "2021-07-26T06:10:39.022096Z",
     "iopub.status.idle": "2021-07-26T06:10:39.145874Z",
     "shell.execute_reply": "2021-07-26T06:10:39.145142Z",
     "shell.execute_reply.started": "2021-07-26T05:42:49.827036Z"
    },
    "papermill": {
     "duration": 0.173986,
     "end_time": "2021-07-26T06:10:39.146027",
     "exception": false,
     "start_time": "2021-07-26T06:10:38.972041",
     "status": "completed"
    },
    "tags": []
   },
   "outputs": [],
   "source": [
    "# Loading dataset\n",
    "df_movies = pd.read_csv('../input/movielens/movies.csv')\n",
    "df_ratings = pd.read_csv('../input/movielens/ratings.csv')"
   ]
  },
  {
   "cell_type": "code",
   "execution_count": 3,
   "id": "frequent-equilibrium",
   "metadata": {
    "execution": {
     "iopub.execute_input": "2021-07-26T06:10:39.253478Z",
     "iopub.status.busy": "2021-07-26T06:10:39.252629Z",
     "iopub.status.idle": "2021-07-26T06:10:39.271062Z",
     "shell.execute_reply": "2021-07-26T06:10:39.270549Z",
     "shell.execute_reply.started": "2021-07-26T05:42:49.965518Z"
    },
    "papermill": {
     "duration": 0.077556,
     "end_time": "2021-07-26T06:10:39.271198",
     "exception": false,
     "start_time": "2021-07-26T06:10:39.193642",
     "status": "completed"
    },
    "tags": []
   },
   "outputs": [
    {
     "data": {
      "text/html": [
       "<div>\n",
       "<style scoped>\n",
       "    .dataframe tbody tr th:only-of-type {\n",
       "        vertical-align: middle;\n",
       "    }\n",
       "\n",
       "    .dataframe tbody tr th {\n",
       "        vertical-align: top;\n",
       "    }\n",
       "\n",
       "    .dataframe thead th {\n",
       "        text-align: right;\n",
       "    }\n",
       "</style>\n",
       "<table border=\"1\" class=\"dataframe\">\n",
       "  <thead>\n",
       "    <tr style=\"text-align: right;\">\n",
       "      <th></th>\n",
       "      <th>userId</th>\n",
       "      <th>movieId</th>\n",
       "      <th>rating</th>\n",
       "      <th>timestamp</th>\n",
       "    </tr>\n",
       "  </thead>\n",
       "  <tbody>\n",
       "    <tr>\n",
       "      <th>0</th>\n",
       "      <td>1</td>\n",
       "      <td>31</td>\n",
       "      <td>2.5</td>\n",
       "      <td>1260759144</td>\n",
       "    </tr>\n",
       "    <tr>\n",
       "      <th>1</th>\n",
       "      <td>1</td>\n",
       "      <td>1029</td>\n",
       "      <td>3.0</td>\n",
       "      <td>1260759179</td>\n",
       "    </tr>\n",
       "    <tr>\n",
       "      <th>2</th>\n",
       "      <td>1</td>\n",
       "      <td>1061</td>\n",
       "      <td>3.0</td>\n",
       "      <td>1260759182</td>\n",
       "    </tr>\n",
       "    <tr>\n",
       "      <th>3</th>\n",
       "      <td>1</td>\n",
       "      <td>1129</td>\n",
       "      <td>2.0</td>\n",
       "      <td>1260759185</td>\n",
       "    </tr>\n",
       "    <tr>\n",
       "      <th>4</th>\n",
       "      <td>1</td>\n",
       "      <td>1172</td>\n",
       "      <td>4.0</td>\n",
       "      <td>1260759205</td>\n",
       "    </tr>\n",
       "  </tbody>\n",
       "</table>\n",
       "</div>"
      ],
      "text/plain": [
       "   userId  movieId  rating   timestamp\n",
       "0       1       31     2.5  1260759144\n",
       "1       1     1029     3.0  1260759179\n",
       "2       1     1061     3.0  1260759182\n",
       "3       1     1129     2.0  1260759185\n",
       "4       1     1172     4.0  1260759205"
      ]
     },
     "execution_count": 3,
     "metadata": {},
     "output_type": "execute_result"
    }
   ],
   "source": [
    "df_ratings.head()"
   ]
  },
  {
   "cell_type": "code",
   "execution_count": 4,
   "id": "scenic-senator",
   "metadata": {
    "execution": {
     "iopub.execute_input": "2021-07-26T06:10:39.370504Z",
     "iopub.status.busy": "2021-07-26T06:10:39.369616Z",
     "iopub.status.idle": "2021-07-26T06:10:39.380647Z",
     "shell.execute_reply": "2021-07-26T06:10:39.380127Z",
     "shell.execute_reply.started": "2021-07-26T05:42:49.994280Z"
    },
    "papermill": {
     "duration": 0.06187,
     "end_time": "2021-07-26T06:10:39.380787",
     "exception": false,
     "start_time": "2021-07-26T06:10:39.318917",
     "status": "completed"
    },
    "tags": []
   },
   "outputs": [
    {
     "data": {
      "text/html": [
       "<div>\n",
       "<style scoped>\n",
       "    .dataframe tbody tr th:only-of-type {\n",
       "        vertical-align: middle;\n",
       "    }\n",
       "\n",
       "    .dataframe tbody tr th {\n",
       "        vertical-align: top;\n",
       "    }\n",
       "\n",
       "    .dataframe thead th {\n",
       "        text-align: right;\n",
       "    }\n",
       "</style>\n",
       "<table border=\"1\" class=\"dataframe\">\n",
       "  <thead>\n",
       "    <tr style=\"text-align: right;\">\n",
       "      <th></th>\n",
       "      <th>movieId</th>\n",
       "      <th>title</th>\n",
       "      <th>genres</th>\n",
       "    </tr>\n",
       "  </thead>\n",
       "  <tbody>\n",
       "    <tr>\n",
       "      <th>0</th>\n",
       "      <td>1</td>\n",
       "      <td>Toy Story (1995)</td>\n",
       "      <td>Adventure|Animation|Children|Comedy|Fantasy</td>\n",
       "    </tr>\n",
       "    <tr>\n",
       "      <th>1</th>\n",
       "      <td>2</td>\n",
       "      <td>Jumanji (1995)</td>\n",
       "      <td>Adventure|Children|Fantasy</td>\n",
       "    </tr>\n",
       "    <tr>\n",
       "      <th>2</th>\n",
       "      <td>3</td>\n",
       "      <td>Grumpier Old Men (1995)</td>\n",
       "      <td>Comedy|Romance</td>\n",
       "    </tr>\n",
       "    <tr>\n",
       "      <th>3</th>\n",
       "      <td>4</td>\n",
       "      <td>Waiting to Exhale (1995)</td>\n",
       "      <td>Comedy|Drama|Romance</td>\n",
       "    </tr>\n",
       "    <tr>\n",
       "      <th>4</th>\n",
       "      <td>5</td>\n",
       "      <td>Father of the Bride Part II (1995)</td>\n",
       "      <td>Comedy</td>\n",
       "    </tr>\n",
       "  </tbody>\n",
       "</table>\n",
       "</div>"
      ],
      "text/plain": [
       "   movieId                               title  \\\n",
       "0        1                    Toy Story (1995)   \n",
       "1        2                      Jumanji (1995)   \n",
       "2        3             Grumpier Old Men (1995)   \n",
       "3        4            Waiting to Exhale (1995)   \n",
       "4        5  Father of the Bride Part II (1995)   \n",
       "\n",
       "                                        genres  \n",
       "0  Adventure|Animation|Children|Comedy|Fantasy  \n",
       "1                   Adventure|Children|Fantasy  \n",
       "2                               Comedy|Romance  \n",
       "3                         Comedy|Drama|Romance  \n",
       "4                                       Comedy  "
      ]
     },
     "execution_count": 4,
     "metadata": {},
     "output_type": "execute_result"
    }
   ],
   "source": [
    "df_movies.head()"
   ]
  },
  {
   "cell_type": "code",
   "execution_count": 5,
   "id": "published-madison",
   "metadata": {
    "execution": {
     "iopub.execute_input": "2021-07-26T06:10:39.490271Z",
     "iopub.status.busy": "2021-07-26T06:10:39.489643Z",
     "iopub.status.idle": "2021-07-26T06:10:39.523588Z",
     "shell.execute_reply": "2021-07-26T06:10:39.524073Z",
     "shell.execute_reply.started": "2021-07-26T05:42:50.007389Z"
    },
    "papermill": {
     "duration": 0.095,
     "end_time": "2021-07-26T06:10:39.524249",
     "exception": false,
     "start_time": "2021-07-26T06:10:39.429249",
     "status": "completed"
    },
    "tags": []
   },
   "outputs": [
    {
     "data": {
      "text/html": [
       "<div>\n",
       "<style scoped>\n",
       "    .dataframe tbody tr th:only-of-type {\n",
       "        vertical-align: middle;\n",
       "    }\n",
       "\n",
       "    .dataframe tbody tr th {\n",
       "        vertical-align: top;\n",
       "    }\n",
       "\n",
       "    .dataframe thead th {\n",
       "        text-align: right;\n",
       "    }\n",
       "</style>\n",
       "<table border=\"1\" class=\"dataframe\">\n",
       "  <thead>\n",
       "    <tr style=\"text-align: right;\">\n",
       "      <th></th>\n",
       "      <th>userId</th>\n",
       "      <th>movieId</th>\n",
       "      <th>rating</th>\n",
       "      <th>timestamp</th>\n",
       "    </tr>\n",
       "  </thead>\n",
       "  <tbody>\n",
       "    <tr>\n",
       "      <th>count</th>\n",
       "      <td>100004.000000</td>\n",
       "      <td>100004.000000</td>\n",
       "      <td>100004.000000</td>\n",
       "      <td>1.000040e+05</td>\n",
       "    </tr>\n",
       "    <tr>\n",
       "      <th>mean</th>\n",
       "      <td>347.011310</td>\n",
       "      <td>12548.664363</td>\n",
       "      <td>3.543608</td>\n",
       "      <td>1.129639e+09</td>\n",
       "    </tr>\n",
       "    <tr>\n",
       "      <th>std</th>\n",
       "      <td>195.163838</td>\n",
       "      <td>26369.198969</td>\n",
       "      <td>1.058064</td>\n",
       "      <td>1.916858e+08</td>\n",
       "    </tr>\n",
       "    <tr>\n",
       "      <th>min</th>\n",
       "      <td>1.000000</td>\n",
       "      <td>1.000000</td>\n",
       "      <td>0.500000</td>\n",
       "      <td>7.896520e+08</td>\n",
       "    </tr>\n",
       "    <tr>\n",
       "      <th>25%</th>\n",
       "      <td>182.000000</td>\n",
       "      <td>1028.000000</td>\n",
       "      <td>3.000000</td>\n",
       "      <td>9.658478e+08</td>\n",
       "    </tr>\n",
       "    <tr>\n",
       "      <th>50%</th>\n",
       "      <td>367.000000</td>\n",
       "      <td>2406.500000</td>\n",
       "      <td>4.000000</td>\n",
       "      <td>1.110422e+09</td>\n",
       "    </tr>\n",
       "    <tr>\n",
       "      <th>75%</th>\n",
       "      <td>520.000000</td>\n",
       "      <td>5418.000000</td>\n",
       "      <td>4.000000</td>\n",
       "      <td>1.296192e+09</td>\n",
       "    </tr>\n",
       "    <tr>\n",
       "      <th>max</th>\n",
       "      <td>671.000000</td>\n",
       "      <td>163949.000000</td>\n",
       "      <td>5.000000</td>\n",
       "      <td>1.476641e+09</td>\n",
       "    </tr>\n",
       "  </tbody>\n",
       "</table>\n",
       "</div>"
      ],
      "text/plain": [
       "              userId        movieId         rating     timestamp\n",
       "count  100004.000000  100004.000000  100004.000000  1.000040e+05\n",
       "mean      347.011310   12548.664363       3.543608  1.129639e+09\n",
       "std       195.163838   26369.198969       1.058064  1.916858e+08\n",
       "min         1.000000       1.000000       0.500000  7.896520e+08\n",
       "25%       182.000000    1028.000000       3.000000  9.658478e+08\n",
       "50%       367.000000    2406.500000       4.000000  1.110422e+09\n",
       "75%       520.000000    5418.000000       4.000000  1.296192e+09\n",
       "max       671.000000  163949.000000       5.000000  1.476641e+09"
      ]
     },
     "execution_count": 5,
     "metadata": {},
     "output_type": "execute_result"
    }
   ],
   "source": [
    "df_ratings.describe()"
   ]
  },
  {
   "cell_type": "markdown",
   "id": "silent-pantyhose",
   "metadata": {
    "papermill": {
     "duration": 0.04878,
     "end_time": "2021-07-26T06:10:39.622884",
     "exception": false,
     "start_time": "2021-07-26T06:10:39.574104",
     "status": "completed"
    },
    "tags": []
   },
   "source": [
    "We can see that there is no missing data in `ratings.csv` file and the range of rating is between 0.5 and 5."
   ]
  },
  {
   "cell_type": "markdown",
   "id": "moving-cause",
   "metadata": {
    "papermill": {
     "duration": 0.048472,
     "end_time": "2021-07-26T06:10:39.720325",
     "exception": false,
     "start_time": "2021-07-26T06:10:39.671853",
     "status": "completed"
    },
    "tags": []
   },
   "source": [
    "### <a id='eda_genres'></a>1.2 Genres"
   ]
  },
  {
   "cell_type": "code",
   "execution_count": 6,
   "id": "consecutive-parliament",
   "metadata": {
    "execution": {
     "iopub.execute_input": "2021-07-26T06:10:39.828484Z",
     "iopub.status.busy": "2021-07-26T06:10:39.827546Z",
     "iopub.status.idle": "2021-07-26T06:10:40.089598Z",
     "shell.execute_reply": "2021-07-26T06:10:40.089102Z",
     "shell.execute_reply.started": "2021-07-26T05:42:50.052019Z"
    },
    "papermill": {
     "duration": 0.320349,
     "end_time": "2021-07-26T06:10:40.089736",
     "exception": false,
     "start_time": "2021-07-26T06:10:39.769387",
     "status": "completed"
    },
    "tags": []
   },
   "outputs": [
    {
     "name": "stdout",
     "output_type": "stream",
     "text": [
      "The total number of genres is: 20\n"
     ]
    },
    {
     "data": {
      "text/html": [
       "<div>\n",
       "<style scoped>\n",
       "    .dataframe tbody tr th:only-of-type {\n",
       "        vertical-align: middle;\n",
       "    }\n",
       "\n",
       "    .dataframe tbody tr th {\n",
       "        vertical-align: top;\n",
       "    }\n",
       "\n",
       "    .dataframe thead th {\n",
       "        text-align: right;\n",
       "    }\n",
       "</style>\n",
       "<table border=\"1\" class=\"dataframe\">\n",
       "  <thead>\n",
       "    <tr style=\"text-align: right;\">\n",
       "      <th></th>\n",
       "      <th>genres</th>\n",
       "      <th>count</th>\n",
       "      <th>percentage(%)</th>\n",
       "    </tr>\n",
       "  </thead>\n",
       "  <tbody>\n",
       "    <tr>\n",
       "      <th>8</th>\n",
       "      <td>Drama</td>\n",
       "      <td>4365</td>\n",
       "      <td>21.46</td>\n",
       "    </tr>\n",
       "    <tr>\n",
       "      <th>5</th>\n",
       "      <td>Comedy</td>\n",
       "      <td>3315</td>\n",
       "      <td>16.30</td>\n",
       "    </tr>\n",
       "    <tr>\n",
       "      <th>17</th>\n",
       "      <td>Thriller</td>\n",
       "      <td>1729</td>\n",
       "      <td>8.50</td>\n",
       "    </tr>\n",
       "    <tr>\n",
       "      <th>1</th>\n",
       "      <td>Action</td>\n",
       "      <td>1545</td>\n",
       "      <td>7.60</td>\n",
       "    </tr>\n",
       "    <tr>\n",
       "      <th>15</th>\n",
       "      <td>Romance</td>\n",
       "      <td>1545</td>\n",
       "      <td>7.60</td>\n",
       "    </tr>\n",
       "    <tr>\n",
       "      <th>2</th>\n",
       "      <td>Adventure</td>\n",
       "      <td>1117</td>\n",
       "      <td>5.49</td>\n",
       "    </tr>\n",
       "    <tr>\n",
       "      <th>6</th>\n",
       "      <td>Crime</td>\n",
       "      <td>1100</td>\n",
       "      <td>5.41</td>\n",
       "    </tr>\n",
       "    <tr>\n",
       "      <th>11</th>\n",
       "      <td>Horror</td>\n",
       "      <td>877</td>\n",
       "      <td>4.31</td>\n",
       "    </tr>\n",
       "    <tr>\n",
       "      <th>16</th>\n",
       "      <td>Sci-Fi</td>\n",
       "      <td>792</td>\n",
       "      <td>3.89</td>\n",
       "    </tr>\n",
       "    <tr>\n",
       "      <th>9</th>\n",
       "      <td>Fantasy</td>\n",
       "      <td>654</td>\n",
       "      <td>3.22</td>\n",
       "    </tr>\n",
       "    <tr>\n",
       "      <th>4</th>\n",
       "      <td>Children</td>\n",
       "      <td>583</td>\n",
       "      <td>2.87</td>\n",
       "    </tr>\n",
       "    <tr>\n",
       "      <th>14</th>\n",
       "      <td>Mystery</td>\n",
       "      <td>543</td>\n",
       "      <td>2.67</td>\n",
       "    </tr>\n",
       "    <tr>\n",
       "      <th>7</th>\n",
       "      <td>Documentary</td>\n",
       "      <td>495</td>\n",
       "      <td>2.43</td>\n",
       "    </tr>\n",
       "    <tr>\n",
       "      <th>3</th>\n",
       "      <td>Animation</td>\n",
       "      <td>447</td>\n",
       "      <td>2.20</td>\n",
       "    </tr>\n",
       "    <tr>\n",
       "      <th>13</th>\n",
       "      <td>Musical</td>\n",
       "      <td>394</td>\n",
       "      <td>1.94</td>\n",
       "    </tr>\n",
       "    <tr>\n",
       "      <th>18</th>\n",
       "      <td>War</td>\n",
       "      <td>367</td>\n",
       "      <td>1.80</td>\n",
       "    </tr>\n",
       "    <tr>\n",
       "      <th>19</th>\n",
       "      <td>Western</td>\n",
       "      <td>168</td>\n",
       "      <td>0.83</td>\n",
       "    </tr>\n",
       "    <tr>\n",
       "      <th>12</th>\n",
       "      <td>IMAX</td>\n",
       "      <td>153</td>\n",
       "      <td>0.75</td>\n",
       "    </tr>\n",
       "    <tr>\n",
       "      <th>10</th>\n",
       "      <td>Film-Noir</td>\n",
       "      <td>133</td>\n",
       "      <td>0.65</td>\n",
       "    </tr>\n",
       "    <tr>\n",
       "      <th>0</th>\n",
       "      <td>(no genres listed)</td>\n",
       "      <td>18</td>\n",
       "      <td>0.09</td>\n",
       "    </tr>\n",
       "  </tbody>\n",
       "</table>\n",
       "</div>"
      ],
      "text/plain": [
       "                genres  count  percentage(%)\n",
       "8                Drama   4365          21.46\n",
       "5               Comedy   3315          16.30\n",
       "17            Thriller   1729           8.50\n",
       "1               Action   1545           7.60\n",
       "15             Romance   1545           7.60\n",
       "2            Adventure   1117           5.49\n",
       "6                Crime   1100           5.41\n",
       "11              Horror    877           4.31\n",
       "16              Sci-Fi    792           3.89\n",
       "9              Fantasy    654           3.22\n",
       "4             Children    583           2.87\n",
       "14             Mystery    543           2.67\n",
       "7          Documentary    495           2.43\n",
       "3            Animation    447           2.20\n",
       "13             Musical    394           1.94\n",
       "18                 War    367           1.80\n",
       "19             Western    168           0.83\n",
       "12                IMAX    153           0.75\n",
       "10           Film-Noir    133           0.65\n",
       "0   (no genres listed)     18           0.09"
      ]
     },
     "execution_count": 6,
     "metadata": {},
     "output_type": "execute_result"
    }
   ],
   "source": [
    "genres = df_movies['genres'].str.get_dummies(sep='|')\n",
    "genres_count = genres.sum(axis = 0).to_frame().reset_index()\n",
    "genres_count.columns =['genres', 'count']\n",
    "genres_count = genres_count.sort_values(by='count', ascending=False)\n",
    "print('The total number of genres is:', genres_count.shape[0])\n",
    "genres_count['percentage(%)'] = round(genres_count['count']/sum(genres_count['count']), 4)*100\n",
    "genres_count"
   ]
  },
  {
   "cell_type": "code",
   "execution_count": 7,
   "id": "potential-shape",
   "metadata": {
    "execution": {
     "iopub.execute_input": "2021-07-26T06:10:40.200902Z",
     "iopub.status.busy": "2021-07-26T06:10:40.200226Z",
     "iopub.status.idle": "2021-07-26T06:10:40.489680Z",
     "shell.execute_reply": "2021-07-26T06:10:40.490179Z",
     "shell.execute_reply.started": "2021-07-26T05:42:50.312828Z"
    },
    "papermill": {
     "duration": 0.350669,
     "end_time": "2021-07-26T06:10:40.490364",
     "exception": false,
     "start_time": "2021-07-26T06:10:40.139695",
     "status": "completed"
    },
    "tags": []
   },
   "outputs": [
    {
     "data": {
      "image/png": "[encoded data removed]",
      "text/plain": [
       "<Figure size 864x432 with 1 Axes>"
      ]
     },
     "metadata": {
      "needs_background": "light"
     },
     "output_type": "display_data"
    }
   ],
   "source": [
    "# plot the distribution of genres and we only show top 10\n",
    "plt.figure(figsize = (12, 6))\n",
    "ax = sns.barplot(genres_count['genres'][:10], genres_count['count'][:10], palette=\"tab10\")\n",
    "for q in ax.patches:\n",
    "    ax.annotate(str(q.get_height()), (q.get_x() * 1.01 , q.get_height() * 1.01))\n",
    "ax.set_yticklabels([num for num in ax.get_yticks()])\n",
    "plt.tick_params(labelsize = 12)\n",
    "plt.title(\"Count genres in movie dataset for the top 10\", fontsize = 20)\n",
    "plt.xlabel(\"Genres\", fontsize = 16)\n",
    "plt.ylabel(\"Count\", fontsize = 16)\n",
    "plt.grid()"
   ]
  },
  {
   "cell_type": "markdown",
   "id": "religious-matter",
   "metadata": {
    "papermill": {
     "duration": 0.057703,
     "end_time": "2021-07-26T06:10:40.599924",
     "exception": false,
     "start_time": "2021-07-26T06:10:40.542221",
     "status": "completed"
    },
    "tags": []
   },
   "source": [
    "We can see that there are 20 different kinds of genres and drama and comedy are biggest genres in `movies.csv` file."
   ]
  },
  {
   "cell_type": "markdown",
   "id": "failing-transformation",
   "metadata": {
    "papermill": {
     "duration": 0.051067,
     "end_time": "2021-07-26T06:10:40.702409",
     "exception": false,
     "start_time": "2021-07-26T06:10:40.651342",
     "status": "completed"
    },
    "tags": []
   },
   "source": [
    "### <a id='eda_ratings'></a>1.3 Ratings"
   ]
  },
  {
   "cell_type": "code",
   "execution_count": 8,
   "id": "interim-treasure",
   "metadata": {
    "execution": {
     "iopub.execute_input": "2021-07-26T06:10:40.808462Z",
     "iopub.status.busy": "2021-07-26T06:10:40.807831Z",
     "iopub.status.idle": "2021-07-26T06:10:41.274731Z",
     "shell.execute_reply": "2021-07-26T06:10:41.275190Z",
     "shell.execute_reply.started": "2021-07-26T05:42:50.612511Z"
    },
    "papermill": {
     "duration": 0.521757,
     "end_time": "2021-07-26T06:10:41.275365",
     "exception": false,
     "start_time": "2021-07-26T06:10:40.753608",
     "status": "completed"
    },
    "tags": []
   },
   "outputs": [
    {
     "data": {
      "image/png": "[encoded data removed]",
      "text/plain": [
       "<Figure size 864x432 with 1 Axes>"
      ]
     },
     "metadata": {
      "needs_background": "light"
     },
     "output_type": "display_data"
    }
   ],
   "source": [
    "# merge `ratings.csv` and `movies.csv` by movieID\n",
    "df = pd.merge(df_ratings, df_movies, how='left', on='movieId')\n",
    "rating_count = df['rating'].value_counts().to_frame().reset_index()\n",
    "rating_count.columns =['rating', 'count']\n",
    "rating_count = rating_count.sort_values(by='count', ascending=False)\n",
    "\n",
    "# plot the distribution of rating\n",
    "plt.figure(figsize = (12, 6))\n",
    "ax = sns.barplot(rating_count['rating'], rating_count['count'], palette=\"tab10\")\n",
    "for q in ax.patches:\n",
    "    ax.annotate(str(q.get_height()), (q.get_x() * 1.01 , q.get_height() * 1.01))\n",
    "ax.set_yticklabels([num for num in ax.get_yticks()])\n",
    "plt.tick_params(labelsize = 12)\n",
    "plt.title(\"The distribution of Rating\", fontsize = 20)\n",
    "plt.xlabel(\"Rating\", fontsize = 16)\n",
    "plt.ylabel(\"Count\", fontsize = 16)\n",
    "plt.grid()"
   ]
  },
  {
   "cell_type": "code",
   "execution_count": 9,
   "id": "willing-tumor",
   "metadata": {
    "execution": {
     "iopub.execute_input": "2021-07-26T06:10:41.384772Z",
     "iopub.status.busy": "2021-07-26T06:10:41.384095Z",
     "iopub.status.idle": "2021-07-26T06:10:41.397819Z",
     "shell.execute_reply": "2021-07-26T06:10:41.397256Z",
     "shell.execute_reply.started": "2021-07-26T05:42:51.068662Z"
    },
    "papermill": {
     "duration": 0.06943,
     "end_time": "2021-07-26T06:10:41.397961",
     "exception": false,
     "start_time": "2021-07-26T06:10:41.328531",
     "status": "completed"
    },
    "tags": []
   },
   "outputs": [
    {
     "data": {
      "text/html": [
       "<div>\n",
       "<style scoped>\n",
       "    .dataframe tbody tr th:only-of-type {\n",
       "        vertical-align: middle;\n",
       "    }\n",
       "\n",
       "    .dataframe tbody tr th {\n",
       "        vertical-align: top;\n",
       "    }\n",
       "\n",
       "    .dataframe thead th {\n",
       "        text-align: right;\n",
       "    }\n",
       "</style>\n",
       "<table border=\"1\" class=\"dataframe\">\n",
       "  <thead>\n",
       "    <tr style=\"text-align: right;\">\n",
       "      <th></th>\n",
       "      <th>rating</th>\n",
       "      <th>count</th>\n",
       "      <th>percentage(%)</th>\n",
       "    </tr>\n",
       "  </thead>\n",
       "  <tbody>\n",
       "    <tr>\n",
       "      <th>0</th>\n",
       "      <td>4.0</td>\n",
       "      <td>28750</td>\n",
       "      <td>28.75</td>\n",
       "    </tr>\n",
       "    <tr>\n",
       "      <th>1</th>\n",
       "      <td>3.0</td>\n",
       "      <td>20064</td>\n",
       "      <td>20.06</td>\n",
       "    </tr>\n",
       "    <tr>\n",
       "      <th>2</th>\n",
       "      <td>5.0</td>\n",
       "      <td>15095</td>\n",
       "      <td>15.09</td>\n",
       "    </tr>\n",
       "    <tr>\n",
       "      <th>3</th>\n",
       "      <td>3.5</td>\n",
       "      <td>10538</td>\n",
       "      <td>10.54</td>\n",
       "    </tr>\n",
       "    <tr>\n",
       "      <th>4</th>\n",
       "      <td>4.5</td>\n",
       "      <td>7723</td>\n",
       "      <td>7.72</td>\n",
       "    </tr>\n",
       "    <tr>\n",
       "      <th>5</th>\n",
       "      <td>2.0</td>\n",
       "      <td>7271</td>\n",
       "      <td>7.27</td>\n",
       "    </tr>\n",
       "    <tr>\n",
       "      <th>6</th>\n",
       "      <td>2.5</td>\n",
       "      <td>4449</td>\n",
       "      <td>4.45</td>\n",
       "    </tr>\n",
       "    <tr>\n",
       "      <th>7</th>\n",
       "      <td>1.0</td>\n",
       "      <td>3326</td>\n",
       "      <td>3.33</td>\n",
       "    </tr>\n",
       "    <tr>\n",
       "      <th>8</th>\n",
       "      <td>1.5</td>\n",
       "      <td>1687</td>\n",
       "      <td>1.69</td>\n",
       "    </tr>\n",
       "    <tr>\n",
       "      <th>9</th>\n",
       "      <td>0.5</td>\n",
       "      <td>1101</td>\n",
       "      <td>1.10</td>\n",
       "    </tr>\n",
       "  </tbody>\n",
       "</table>\n",
       "</div>"
      ],
      "text/plain": [
       "   rating  count  percentage(%)\n",
       "0     4.0  28750          28.75\n",
       "1     3.0  20064          20.06\n",
       "2     5.0  15095          15.09\n",
       "3     3.5  10538          10.54\n",
       "4     4.5   7723           7.72\n",
       "5     2.0   7271           7.27\n",
       "6     2.5   4449           4.45\n",
       "7     1.0   3326           3.33\n",
       "8     1.5   1687           1.69\n",
       "9     0.5   1101           1.10"
      ]
     },
     "execution_count": 9,
     "metadata": {},
     "output_type": "execute_result"
    }
   ],
   "source": [
    "rating_count['percentage(%)'] = round(rating_count['count']/sum(rating_count['count']), 4)*100\n",
    "rating_count"
   ]
  },
  {
   "cell_type": "markdown",
   "id": "systematic-vatican",
   "metadata": {
    "papermill": {
     "duration": 0.052808,
     "end_time": "2021-07-26T06:10:41.503733",
     "exception": false,
     "start_time": "2021-07-26T06:10:41.450925",
     "status": "completed"
    },
    "tags": []
   },
   "source": [
    "Most users give 3 or 4 to movie."
   ]
  },
  {
   "cell_type": "code",
   "execution_count": 10,
   "id": "direct-cotton",
   "metadata": {
    "execution": {
     "iopub.execute_input": "2021-07-26T06:10:41.618108Z",
     "iopub.status.busy": "2021-07-26T06:10:41.617241Z",
     "iopub.status.idle": "2021-07-26T06:10:41.695528Z",
     "shell.execute_reply": "2021-07-26T06:10:41.694961Z",
     "shell.execute_reply.started": "2021-07-26T05:42:51.086458Z"
    },
    "papermill": {
     "duration": 0.138334,
     "end_time": "2021-07-26T06:10:41.695687",
     "exception": false,
     "start_time": "2021-07-26T06:10:41.557353",
     "status": "completed"
    },
    "tags": []
   },
   "outputs": [
    {
     "data": {
      "text/html": [
       "<div>\n",
       "<style scoped>\n",
       "    .dataframe tbody tr th:only-of-type {\n",
       "        vertical-align: middle;\n",
       "    }\n",
       "\n",
       "    .dataframe tbody tr th {\n",
       "        vertical-align: top;\n",
       "    }\n",
       "\n",
       "    .dataframe thead th {\n",
       "        text-align: right;\n",
       "    }\n",
       "</style>\n",
       "<table border=\"1\" class=\"dataframe\">\n",
       "  <thead>\n",
       "    <tr style=\"text-align: right;\">\n",
       "      <th></th>\n",
       "      <th>movieId</th>\n",
       "      <th>title</th>\n",
       "      <th>sum</th>\n",
       "      <th>num_of_rating</th>\n",
       "      <th>average_rating</th>\n",
       "    </tr>\n",
       "  </thead>\n",
       "  <tbody>\n",
       "    <tr>\n",
       "      <th>0</th>\n",
       "      <td>318</td>\n",
       "      <td>Shawshank Redemption, The (1994)</td>\n",
       "      <td>1395.5</td>\n",
       "      <td>311</td>\n",
       "      <td>4.487138</td>\n",
       "    </tr>\n",
       "    <tr>\n",
       "      <th>1</th>\n",
       "      <td>356</td>\n",
       "      <td>Forrest Gump (1994)</td>\n",
       "      <td>1382.5</td>\n",
       "      <td>341</td>\n",
       "      <td>4.054252</td>\n",
       "    </tr>\n",
       "    <tr>\n",
       "      <th>2</th>\n",
       "      <td>296</td>\n",
       "      <td>Pulp Fiction (1994)</td>\n",
       "      <td>1379.0</td>\n",
       "      <td>324</td>\n",
       "      <td>4.256173</td>\n",
       "    </tr>\n",
       "    <tr>\n",
       "      <th>3</th>\n",
       "      <td>593</td>\n",
       "      <td>Silence of the Lambs, The (1991)</td>\n",
       "      <td>1258.0</td>\n",
       "      <td>304</td>\n",
       "      <td>4.138158</td>\n",
       "    </tr>\n",
       "    <tr>\n",
       "      <th>4</th>\n",
       "      <td>260</td>\n",
       "      <td>Star Wars: Episode IV - A New Hope (1977)</td>\n",
       "      <td>1228.5</td>\n",
       "      <td>291</td>\n",
       "      <td>4.221649</td>\n",
       "    </tr>\n",
       "  </tbody>\n",
       "</table>\n",
       "</div>"
      ],
      "text/plain": [
       "   movieId                                      title     sum  num_of_rating  \\\n",
       "0      318           Shawshank Redemption, The (1994)  1395.5            311   \n",
       "1      356                        Forrest Gump (1994)  1382.5            341   \n",
       "2      296                        Pulp Fiction (1994)  1379.0            324   \n",
       "3      593           Silence of the Lambs, The (1991)  1258.0            304   \n",
       "4      260  Star Wars: Episode IV - A New Hope (1977)  1228.5            291   \n",
       "\n",
       "   average_rating  \n",
       "0        4.487138  \n",
       "1        4.054252  \n",
       "2        4.256173  \n",
       "3        4.138158  \n",
       "4        4.221649  "
      ]
     },
     "execution_count": 10,
     "metadata": {},
     "output_type": "execute_result"
    }
   ],
   "source": [
    "sum_rating = df.groupby(['movieId', 'title'], as_index=False)['rating'].sum().rename(columns={'rating':'sum'}).sort_values(by='sum', ascending=False)\n",
    "num_rating = df.groupby(['movieId'])['title'].count().to_frame().reset_index().rename(columns={'title':'num_of_rating'})\n",
    "detail_rating = pd.merge(sum_rating, num_rating, how='left', on='movieId')\n",
    "detail_rating['average_rating'] = detail_rating['sum']/detail_rating['num_of_rating']\n",
    "\n",
    "# Show the top 5 sum of rating\n",
    "detail_rating.iloc[:5]"
   ]
  },
  {
   "cell_type": "code",
   "execution_count": 11,
   "id": "entitled-variation",
   "metadata": {
    "execution": {
     "iopub.execute_input": "2021-07-26T06:10:41.807240Z",
     "iopub.status.busy": "2021-07-26T06:10:41.806647Z",
     "iopub.status.idle": "2021-07-26T06:10:41.819888Z",
     "shell.execute_reply": "2021-07-26T06:10:41.819268Z",
     "shell.execute_reply.started": "2021-07-26T05:42:51.165361Z"
    },
    "papermill": {
     "duration": 0.071102,
     "end_time": "2021-07-26T06:10:41.820021",
     "exception": false,
     "start_time": "2021-07-26T06:10:41.748919",
     "status": "completed"
    },
    "tags": []
   },
   "outputs": [
    {
     "data": {
      "text/html": [
       "<div>\n",
       "<style scoped>\n",
       "    .dataframe tbody tr th:only-of-type {\n",
       "        vertical-align: middle;\n",
       "    }\n",
       "\n",
       "    .dataframe tbody tr th {\n",
       "        vertical-align: top;\n",
       "    }\n",
       "\n",
       "    .dataframe thead th {\n",
       "        text-align: right;\n",
       "    }\n",
       "</style>\n",
       "<table border=\"1\" class=\"dataframe\">\n",
       "  <thead>\n",
       "    <tr style=\"text-align: right;\">\n",
       "      <th></th>\n",
       "      <th>movieId</th>\n",
       "      <th>title</th>\n",
       "      <th>sum</th>\n",
       "      <th>num_of_rating</th>\n",
       "      <th>average_rating</th>\n",
       "    </tr>\n",
       "  </thead>\n",
       "  <tbody>\n",
       "    <tr>\n",
       "      <th>1</th>\n",
       "      <td>356</td>\n",
       "      <td>Forrest Gump (1994)</td>\n",
       "      <td>1382.5</td>\n",
       "      <td>341</td>\n",
       "      <td>4.054252</td>\n",
       "    </tr>\n",
       "    <tr>\n",
       "      <th>2</th>\n",
       "      <td>296</td>\n",
       "      <td>Pulp Fiction (1994)</td>\n",
       "      <td>1379.0</td>\n",
       "      <td>324</td>\n",
       "      <td>4.256173</td>\n",
       "    </tr>\n",
       "    <tr>\n",
       "      <th>0</th>\n",
       "      <td>318</td>\n",
       "      <td>Shawshank Redemption, The (1994)</td>\n",
       "      <td>1395.5</td>\n",
       "      <td>311</td>\n",
       "      <td>4.487138</td>\n",
       "    </tr>\n",
       "    <tr>\n",
       "      <th>3</th>\n",
       "      <td>593</td>\n",
       "      <td>Silence of the Lambs, The (1991)</td>\n",
       "      <td>1258.0</td>\n",
       "      <td>304</td>\n",
       "      <td>4.138158</td>\n",
       "    </tr>\n",
       "    <tr>\n",
       "      <th>4</th>\n",
       "      <td>260</td>\n",
       "      <td>Star Wars: Episode IV - A New Hope (1977)</td>\n",
       "      <td>1228.5</td>\n",
       "      <td>291</td>\n",
       "      <td>4.221649</td>\n",
       "    </tr>\n",
       "  </tbody>\n",
       "</table>\n",
       "</div>"
      ],
      "text/plain": [
       "   movieId                                      title     sum  num_of_rating  \\\n",
       "1      356                        Forrest Gump (1994)  1382.5            341   \n",
       "2      296                        Pulp Fiction (1994)  1379.0            324   \n",
       "0      318           Shawshank Redemption, The (1994)  1395.5            311   \n",
       "3      593           Silence of the Lambs, The (1991)  1258.0            304   \n",
       "4      260  Star Wars: Episode IV - A New Hope (1977)  1228.5            291   \n",
       "\n",
       "   average_rating  \n",
       "1        4.054252  \n",
       "2        4.256173  \n",
       "0        4.487138  \n",
       "3        4.138158  \n",
       "4        4.221649  "
      ]
     },
     "execution_count": 11,
     "metadata": {},
     "output_type": "execute_result"
    }
   ],
   "source": [
    "# Show the top 5 number of rating\n",
    "detail_rating.sort_values(by='num_of_rating', ascending=False).iloc[:5]"
   ]
  },
  {
   "cell_type": "markdown",
   "id": "renewable-testimony",
   "metadata": {
    "papermill": {
     "duration": 0.053475,
     "end_time": "2021-07-26T06:10:41.927718",
     "exception": false,
     "start_time": "2021-07-26T06:10:41.874243",
     "status": "completed"
    },
    "tags": []
   },
   "source": [
    "### <a id='eda_years'></a>1.4 Years"
   ]
  },
  {
   "cell_type": "code",
   "execution_count": 12,
   "id": "under-saturn",
   "metadata": {
    "execution": {
     "iopub.execute_input": "2021-07-26T06:10:42.106455Z",
     "iopub.status.busy": "2021-07-26T06:10:42.070020Z",
     "iopub.status.idle": "2021-07-26T06:10:58.103393Z",
     "shell.execute_reply": "2021-07-26T06:10:58.103944Z",
     "shell.execute_reply.started": "2021-07-26T05:42:51.181509Z"
    },
    "papermill": {
     "duration": 16.122264,
     "end_time": "2021-07-26T06:10:58.104127",
     "exception": false,
     "start_time": "2021-07-26T06:10:41.981863",
     "status": "completed"
    },
    "tags": []
   },
   "outputs": [
    {
     "name": "stdout",
     "output_type": "stream",
     "text": [
      "The maximum year in this dataset is: 2016\n",
      "The minimum year in this dataset is: 1902\n"
     ]
    },
    {
     "data": {
      "text/plain": [
       "Text(0, 0.5, 'Count')"
      ]
     },
     "execution_count": 12,
     "metadata": {},
     "output_type": "execute_result"
    },
    {
     "data": {
      "image/png": "[encoded data removed]",
      "text/plain": [
       "<Figure size 864x432 with 1 Axes>"
      ]
     },
     "metadata": {
      "needs_background": "light"
     },
     "output_type": "display_data"
    }
   ],
   "source": [
    "# extract movie's year from dataset\n",
    "p = re.compile(r\"(?:\\((\\d{4})\\))?\\s*$\")\n",
    "df_year = []\n",
    "for row_df in range(df.shape[0]):\n",
    "    title = df.iloc[row_df]['title']\n",
    "    extract_year = p.search(title)\n",
    "    year = extract_year.group(1)\n",
    "    df_year.append(year)\n",
    "df['year'] = df_year\n",
    "\n",
    "# count the number of year\n",
    "years_count = df['year'].value_counts().to_frame().reset_index()\n",
    "years_count.columns =['year', 'count']\n",
    "years_count = years_count.sort_values(by='year', ascending=True)\n",
    "years_count['percentage(%)'] = round(years_count['count']/sum(years_count['count']), 4)*100\n",
    "print('The maximum year in this dataset is:', years_count.iloc[-1]['year'])\n",
    "print('The minimum year in this dataset is:', years_count.iloc[0]['year'])\n",
    "\n",
    "# plot the distribution of year and we only show top 15\n",
    "years_count['year'] = pd.to_numeric(years_count['year'])\n",
    "plt.figure(figsize = (12, 6))\n",
    "sns.set_theme(style=\"darkgrid\")\n",
    "ax = sns.lineplot(data=years_count, x='year', y='count')\n",
    "plt.title(\"The distribution of Year\", fontsize = 20)\n",
    "plt.xlabel(\"Year\", fontsize = 16)\n",
    "plt.ylabel(\"Count\", fontsize = 16)"
   ]
  },
  {
   "cell_type": "markdown",
   "id": "british-aviation",
   "metadata": {
    "papermill": {
     "duration": 0.055381,
     "end_time": "2021-07-26T06:10:58.216194",
     "exception": false,
     "start_time": "2021-07-26T06:10:58.160813",
     "status": "completed"
    },
    "tags": []
   },
   "source": [
    "We can see that movie's year is between 1905 and 2016 in the dataset and most rated ones is between 1990 and 2005."
   ]
  },
  {
   "cell_type": "markdown",
   "id": "indian-frequency",
   "metadata": {
    "papermill": {
     "duration": 0.054733,
     "end_time": "2021-07-26T06:10:58.326481",
     "exception": false,
     "start_time": "2021-07-26T06:10:58.271748",
     "status": "completed"
    },
    "tags": []
   },
   "source": [
    "## 2. <a id='building_model'></a>Building Models using `surprise module`"
   ]
  },
  {
   "cell_type": "markdown",
   "id": "liked-opening",
   "metadata": {
    "papermill": {
     "duration": 0.054905,
     "end_time": "2021-07-26T06:10:58.436968",
     "exception": false,
     "start_time": "2021-07-26T06:10:58.382063",
     "status": "completed"
    },
    "tags": []
   },
   "source": [
    "### <a id='m_loading_data'></a>2.1 Loading Data"
   ]
  },
  {
   "cell_type": "code",
   "execution_count": 13,
   "id": "disabled-regular",
   "metadata": {
    "execution": {
     "iopub.execute_input": "2021-07-26T06:10:58.552866Z",
     "iopub.status.busy": "2021-07-26T06:10:58.552201Z",
     "iopub.status.idle": "2021-07-26T06:10:58.806538Z",
     "shell.execute_reply": "2021-07-26T06:10:58.807082Z",
     "shell.execute_reply.started": "2021-07-26T05:43:07.045384Z"
    },
    "papermill": {
     "duration": 0.315059,
     "end_time": "2021-07-26T06:10:58.807272",
     "exception": false,
     "start_time": "2021-07-26T06:10:58.492213",
     "status": "completed"
    },
    "tags": []
   },
   "outputs": [],
   "source": [
    "ratingsPath = '../input/movielens/ratings.csv'\n",
    "moviesPath = '../input/movielens/movies.csv'\n",
    "\n",
    "ratingsDataset = 0\n",
    "\n",
    "reader = Reader(line_format='user item rating timestamp', sep=',', skip_lines=1)\n",
    "ratingsDataset = Dataset.load_from_file(ratingsPath, reader=reader)"
   ]
  },
  {
   "cell_type": "markdown",
   "id": "pharmaceutical-coast",
   "metadata": {
    "papermill": {
     "duration": 0.057392,
     "end_time": "2021-07-26T06:10:58.920657",
     "exception": false,
     "start_time": "2021-07-26T06:10:58.863265",
     "status": "completed"
    },
    "tags": []
   },
   "source": [
    "### <a id='m_pre_processing'></a>2.2 Pre-processing"
   ]
  },
  {
   "cell_type": "markdown",
   "id": "sudden-registrar",
   "metadata": {
    "papermill": {
     "duration": 0.055828,
     "end_time": "2021-07-26T06:10:59.032035",
     "exception": false,
     "start_time": "2021-07-26T06:10:58.976207",
     "status": "completed"
    },
    "tags": []
   },
   "source": [
    "#### <a id='m_extract_information'></a>Extract information from dataset"
   ]
  },
  {
   "cell_type": "code",
   "execution_count": 14,
   "id": "bizarre-stick",
   "metadata": {
    "execution": {
     "iopub.execute_input": "2021-07-26T06:10:59.154272Z",
     "iopub.status.busy": "2021-07-26T06:10:59.153269Z",
     "iopub.status.idle": "2021-07-26T06:10:59.358648Z",
     "shell.execute_reply": "2021-07-26T06:10:59.358054Z",
     "shell.execute_reply.started": "2021-07-26T05:43:07.303169Z"
    },
    "papermill": {
     "duration": 0.270379,
     "end_time": "2021-07-26T06:10:59.358805",
     "exception": false,
     "start_time": "2021-07-26T06:10:59.088426",
     "status": "completed"
    },
    "tags": []
   },
   "outputs": [],
   "source": [
    "# Create lists which can connect movieID and movie title from movie dataset\n",
    "movieID_to_name = {}\n",
    "name_to_movieID = {}\n",
    "\n",
    "with open(moviesPath, newline='', encoding='ISO-8859-1') as csvfile:\n",
    "    movieReader = csv.reader(csvfile)\n",
    "    next(movieReader)\n",
    "    \n",
    "    for row_movieReader in movieReader:\n",
    "        movieID = int(row_movieReader[0])\n",
    "        movieName = row_movieReader[1]\n",
    "\n",
    "        movieID_to_name[movieID] = movieName\n",
    "        name_to_movieID[movieName] = movieID\n",
    "\n",
    "# result:\n",
    "# movieID_to_name: (movieID, movie title)\n",
    "# movieID_to_name = {\n",
    "# 1: 'Toy Story (1995)', \n",
    "# 2: 'Jumanji (1995)',\n",
    "# 3: 'Grumpier Old Men (1995)',...}\n",
    "\n",
    "# name_to_movieID: (movie title, movieID)\n",
    "# name_to_movieID = {\n",
    "# 'Toy Story (1995)': 1,\n",
    "# 'Jumanji (1995)': 2,\n",
    "# 'Grumpier Old Men (1995)': 3,...}\n",
    "\n",
    "# Get the ranking for the rating dataset\n",
    "counts = defaultdict(int)\n",
    "rankings = defaultdict(int) # movie ranking\n",
    "\n",
    "with open(ratingsPath, newline='') as csvfile:\n",
    "    ratingReader = csv.reader(csvfile)\n",
    "    next(ratingReader)\n",
    "    for row_ratingReader in ratingReader:\n",
    "        movieID = int(row_ratingReader[1])\n",
    "        counts[movieID] += 1\n",
    "\n",
    "rank = 1\n",
    "\n",
    "for movieID, count in sorted(counts.items(), key=lambda x: x[1], reverse = True):\n",
    "    rankings[movieID] = rank\n",
    "    rank += 1\n",
    "\n",
    "# result:\n",
    "# rankings: (movieID, ranks)\n",
    "# rankings = {\n",
    "# 356: 1,\n",
    "# 296: 2,\n",
    "# 318: 3,...}"
   ]
  },
  {
   "cell_type": "markdown",
   "id": "legislative-chapel",
   "metadata": {
    "papermill": {
     "duration": 0.055439,
     "end_time": "2021-07-26T06:10:59.469987",
     "exception": false,
     "start_time": "2021-07-26T06:10:59.414548",
     "status": "completed"
    },
    "tags": []
   },
   "source": [
    "#### <a id='m_extra_functionn'></a>Extra Function"
   ]
  },
  {
   "cell_type": "code",
   "execution_count": 15,
   "id": "literary-italic",
   "metadata": {
    "execution": {
     "iopub.execute_input": "2021-07-26T06:10:59.591125Z",
     "iopub.status.busy": "2021-07-26T06:10:59.590325Z",
     "iopub.status.idle": "2021-07-26T06:10:59.592967Z",
     "shell.execute_reply": "2021-07-26T06:10:59.592319Z",
     "shell.execute_reply.started": "2021-07-26T05:43:07.521142Z"
    },
    "papermill": {
     "duration": 0.06747,
     "end_time": "2021-07-26T06:10:59.593105",
     "exception": false,
     "start_time": "2021-07-26T06:10:59.525635",
     "status": "completed"
    },
    "tags": []
   },
   "outputs": [],
   "source": [
    "# We create some functions for getting information from dataset and list\n",
    "\n",
    "def getUserRatings(user):\n",
    "    # This function can extract user's rating from rating dataset\n",
    "    # return a list which contain movieID and rating by the user\n",
    "    userRatings = []\n",
    "    flag = False\n",
    "    with open(ratingPath, newline='') as csvfile:\n",
    "        ratingReader = csv.reader(csvfile)\n",
    "        next(ratingReader)\n",
    "        for row_ratingReader in ratingReader:\n",
    "            userID = int(row_ratingReader[0])\n",
    "            if (user == userID):\n",
    "                movieID = int(row_ratingReader[1])\n",
    "                rating = float(row_ratingReader[2])\n",
    "                userRatings.append((movieID, rating))\n",
    "                flag = True\n",
    "            if(flag and (user != userID)):\n",
    "                break\n",
    "\n",
    "def getMovieName(movieID):\n",
    "    # This function can return movie name from movieID_to_name list by giving movie ID \n",
    "    if movieID in movieID_to_name:\n",
    "        return movieID_to_name[movieID]\n",
    "    else:\n",
    "        return 0\n",
    "\n",
    "def getMovieID(movieName):\n",
    "    # This function can return movie ID from name_to_movieID list by giving movie name \n",
    "    if movieName in name_to_movieID:\n",
    "        return name_to_movieID[movieName]\n",
    "    else:\n",
    "        return 0"
   ]
  },
  {
   "cell_type": "markdown",
   "id": "blocked-enzyme",
   "metadata": {
    "papermill": {
     "duration": 0.055723,
     "end_time": "2021-07-26T06:10:59.704660",
     "exception": false,
     "start_time": "2021-07-26T06:10:59.648937",
     "status": "completed"
    },
    "tags": []
   },
   "source": [
    "#### <a id='m_get_evaluation_dataset'></a>Get Evaluation Dataset"
   ]
  },
  {
   "cell_type": "code",
   "execution_count": 16,
   "id": "attended-story",
   "metadata": {
    "execution": {
     "iopub.execute_input": "2021-07-26T06:10:59.829209Z",
     "iopub.status.busy": "2021-07-26T06:10:59.828375Z",
     "iopub.status.idle": "2021-07-26T06:10:59.831670Z",
     "shell.execute_reply": "2021-07-26T06:10:59.831154Z",
     "shell.execute_reply.started": "2021-07-26T05:43:07.532743Z"
    },
    "papermill": {
     "duration": 0.071408,
     "end_time": "2021-07-26T06:10:59.831817",
     "exception": false,
     "start_time": "2021-07-26T06:10:59.760409",
     "status": "completed"
    },
    "tags": []
   },
   "outputs": [],
   "source": [
    "class EvaluationData:\n",
    "    \n",
    "    def __init__(self, data):\n",
    "        \n",
    "        # build_full_trainset(): do not split the dataset into folds. Build from the whloe dataset\n",
    "        self.full_train_set = data.build_full_trainset()\n",
    "        \n",
    "        # build_anti_testset: return a list that can be used as a testset\n",
    "        self.full_anti_test_set = self.full_train_set.build_anti_testset()\n",
    "        \n",
    "        # split dataset into trainset and testset.\n",
    "        self.trainset, self.testset = train_test_split(data, test_size=.25, random_state=1)\n",
    "        \n",
    "        # cross-validation iterator where each user has exactly one rating in the testset\n",
    "        leave_one_out = LeaveOneOut(n_splits=1, random_state=1)\n",
    "        for train, test in leave_one_out.split(data):\n",
    "            self.leave_one_out_train = train\n",
    "            self.leave_one_out_test = test\n",
    "            \n",
    "        self.leave_one_out_anti_test = self.leave_one_out_train.build_anti_testset()\n",
    "    \n",
    "    # this function can return the whole dataset\n",
    "    def GetFullTrainSet(self):\n",
    "        return self.full_train_set\n",
    "    \n",
    "    # this function can return a list that can be used as a testset\n",
    "    def GetFullAntiTestSet(self):\n",
    "        return self.full_anti_test_set\n",
    "    \n",
    "    # this function can return a list that can be used as a testset for test_subject\n",
    "    def GetAntiTestSetUser(self, test_subjest):\n",
    "        trainset = self.full_train_set\n",
    "        ratings_mean = trainset.global_mean\n",
    "        anti_testset = []\n",
    "        user_inner_id = trainset.to_inner_uid(str(test_subject))\n",
    "        item = set([item_inner_id for (item_inner_id, rating) in trainset.ur[user_inner_id]])\n",
    "        anti_testset += [(trainset.to_raw_uid(user_inner_id), \n",
    "                          trainset.to_raw_iid(i), ratings_mean) for \n",
    "                          i in trainset.all_items() if i not in item]\n",
    "        return anti_testset\n",
    "    \n",
    "    # this function can return the trainset which is splited by the dataset\n",
    "    def GetTrainSet(self):\n",
    "        return self.trainset\n",
    "    \n",
    "    # this function can return the testset which is splited by the dataset\n",
    "    def GetTestSet(self):\n",
    "        return self.testset\n",
    "    \n",
    "    # this function can return the trainset which is relevant to leave-one-out cross-validation\n",
    "    def GetLOOCVTrainSet(self):\n",
    "        return self.leave_one_out_train\n",
    "    \n",
    "    # this function can return the testset which is relevant to leave-one-out cross-validation\n",
    "    def GetLOOCVTestSet(self):\n",
    "        return self.leave_one_out_test\n",
    "    \n",
    "    # this function can return a list that can be used as a testset\n",
    "    def GetLOOCVAntiTestSet(self):\n",
    "        return self.leave_one_out_anti_test"
   ]
  },
  {
   "cell_type": "markdown",
   "id": "endangered-active",
   "metadata": {
    "papermill": {
     "duration": 0.055943,
     "end_time": "2021-07-26T06:10:59.943263",
     "exception": false,
     "start_time": "2021-07-26T06:10:59.887320",
     "status": "completed"
    },
    "tags": []
   },
   "source": [
    "#### <a id='m_evaluation_metrics'></a>Evaluation Metrics"
   ]
  },
  {
   "cell_type": "code",
   "execution_count": 17,
   "id": "occupational-chocolate",
   "metadata": {
    "execution": {
     "iopub.execute_input": "2021-07-26T06:11:00.067242Z",
     "iopub.status.busy": "2021-07-26T06:11:00.066178Z",
     "iopub.status.idle": "2021-07-26T06:11:00.083337Z",
     "shell.execute_reply": "2021-07-26T06:11:00.083821Z",
     "shell.execute_reply.started": "2021-07-26T05:43:07.550278Z"
    },
    "papermill": {
     "duration": 0.084584,
     "end_time": "2021-07-26T06:11:00.084007",
     "exception": false,
     "start_time": "2021-07-26T06:10:59.999423",
     "status": "completed"
    },
    "tags": []
   },
   "outputs": [],
   "source": [
    "# We create some functions for evaluating the result\n",
    "\n",
    "class RecommenderMetrics:\n",
    "    \n",
    "    def MAE(predictions):\n",
    "        return accuracy.mae(predictions, verbose=False)\n",
    "    \n",
    "    def RMSE(predictions):\n",
    "        return accuracy.rmse(predictions, verbose=False)\n",
    "    \n",
    "    def GetTopN(predictions, n = 10, minimumRating=4.0):\n",
    "        topN = defaultdict(list)\n",
    "        \n",
    "        for userID, movieID, actualRating, predictedRating, _ in predictions:\n",
    "            if(predictedRating>=minimumRating):\n",
    "                topN[int(userID)].append((int(movieID), predictedRating))\n",
    "                \n",
    "        for userID, ratings in topN.items():\n",
    "            ratings.sort(key=lambda x: x[1], reverse = True)\n",
    "            topN[int(userID)] = ratings[:n]\n",
    "        \n",
    "        return topN\n",
    "    \n",
    "    def HitRate(topNPredicted, leftOutPredictions):\n",
    "        hits = 0\n",
    "        total = 0\n",
    "        \n",
    "        for leftOut in leftOutPredictions:\n",
    "            userID = leftOut[0]\n",
    "            leftOutmovieID = leftOut[1]\n",
    "            \n",
    "            flag = False\n",
    "            for movieID, predictedRating in topNPredicted[int(userID)]:\n",
    "                if(int(leftOutmovieID) == movieID):\n",
    "                    flag = True\n",
    "                    break\n",
    "            if (flag):\n",
    "                hits += 1\n",
    "            total += 1\n",
    "        return hits/total\n",
    "    \n",
    "    def CumulativeHitRate(topNPredicted, leftOutPredictions, cuttingrating):\n",
    "        hits = 0\n",
    "        total = 0\n",
    "        \n",
    "        for userID, leftOutmovieID, actualRating, predictedRating, _ in leftOutPredictions:\n",
    "            if (predictedRating >= cuttingrating):\n",
    "                flag = False\n",
    "                for movieID, predictedRating in topNPredicted[int(userID)]:\n",
    "                    if (int(leftOutmovieID) == movieID):\n",
    "                        flag = True\n",
    "                        break\n",
    "                if (flag):\n",
    "                    hits += 1\n",
    "                total += 1\n",
    "            \n",
    "        return hits/total\n",
    "    \n",
    "    def RatingHitRate(topNPredicted, leftOutPredictions):\n",
    "        hits = defaultdict(float)\n",
    "        total = defaultdict(float)\n",
    "        \n",
    "        for userID, leftOutmovieID, actualRating, predictedRating, _ in leftOutPredictions:\n",
    "            flag = False\n",
    "            for movieID, predictedRating in topNPredicted[int(userID)]:\n",
    "                if (int(leftOutmovieID) == movieID):\n",
    "                    flag = True\n",
    "                    break\n",
    "            if (flag):\n",
    "                hits[actualRating] += 1\n",
    "            total[actualRating] +=1\n",
    "        \n",
    "        for rating in sorted(total.keys()):\n",
    "            print(rating, hits[rating]/total[rating])\n",
    "    \n",
    "    def AverageReciprocalHitRank(topNPredicted, leftOutPredictions):\n",
    "        summation = 0\n",
    "        total = 0\n",
    "        \n",
    "        for userID, leftOutmovieID, actualRating, predictedRating, _ in leftOutPredictions:\n",
    "            hitrank = 0\n",
    "            rank = 0\n",
    "            for movieID, predictedRating in topNPredicted[int(userID)]:\n",
    "                rank = rank + 1\n",
    "                if (int(leftOutmovieID) == movieID):\n",
    "                    hitrank = rank\n",
    "                    break\n",
    "            if (hitrank > 0):\n",
    "                summation += 1.0/hitrank\n",
    "            total += 1\n",
    "            \n",
    "        return summation/total\n",
    "        \n",
    "    def Coverage(topNPredicted, numUser, threshold = 0):\n",
    "        hits = 0\n",
    "        for userID in topNPredicted.keys():\n",
    "            flag = False\n",
    "            for movieID, predictedRating in topNPredicted[int(userID)]:\n",
    "                if (predictedRating > threshold):\n",
    "                    flag = True\n",
    "                    break\n",
    "            if (flag):\n",
    "                hits += 1\n",
    "        return hits/numUser\n",
    "    \n",
    "    def Diversity(topNPredicted, algo):\n",
    "        n = 0\n",
    "        total = 0\n",
    "        sim_matrix = algo.compute_similarities()\n",
    "        for userID in topNPredicted.keys():\n",
    "            pairs = itertools.combinations(topNPredicted[userID], 2)\n",
    "            for pair in pairs:\n",
    "                movie1 = pair[0][0]\n",
    "                movie2 = pair[1][0]\n",
    "                innerID1 = algo.trainset.to_inner_iid(str(movie1))\n",
    "                innerID2 = algo.trainset.to_inner_iid(str(movie2))\n",
    "                similarity = sim_matrix[innerID1][innerID2]\n",
    "                total += similarity\n",
    "                n += 1\n",
    "        prob = total / n\n",
    "        return (1-prob)\n",
    "    \n",
    "    def Novelty(topNPredicted, rankings):\n",
    "        total = 0\n",
    "        total_rank = 0\n",
    "        for userID in topNPredicted.keys():\n",
    "            for rating in topNPredicted[userID]:\n",
    "                movieID = rating[0]\n",
    "                rank = rankings[movieID]\n",
    "                total_rank += rank\n",
    "                total += 1\n",
    "        return total_rank/total"
   ]
  },
  {
   "cell_type": "code",
   "execution_count": 18,
   "id": "built-aquatic",
   "metadata": {
    "execution": {
     "iopub.execute_input": "2021-07-26T06:11:00.198831Z",
     "iopub.status.busy": "2021-07-26T06:11:00.197818Z",
     "iopub.status.idle": "2021-07-26T06:11:00.212014Z",
     "shell.execute_reply": "2021-07-26T06:11:00.212483Z",
     "shell.execute_reply.started": "2021-07-26T05:43:07.579262Z"
    },
    "papermill": {
     "duration": 0.073501,
     "end_time": "2021-07-26T06:11:00.212688",
     "exception": false,
     "start_time": "2021-07-26T06:11:00.139187",
     "status": "completed"
    },
    "tags": []
   },
   "outputs": [],
   "source": [
    "# This class will calculate all the metrics including RMSE, MAE, hit rate, cumulative hit rate,\n",
    "# average reciprocal hit rate, coverage, civersity, novelty from the model\n",
    "\n",
    "class EvaluatedAlgorithm:\n",
    "    \n",
    "    def __init__(self, algorithm, name):\n",
    "        self.algorithm = algorithm\n",
    "        self.name = name\n",
    "    \n",
    "    def Evaluate(self, data, n):\n",
    "        self.data = data\n",
    "        self.n = n\n",
    "        metrics = {}\n",
    "\n",
    "        # Calculate RMSE and MAE\n",
    "        print('Evaluating accuracy...')\n",
    "        self.algorithm.fit(self.data.GetTrainSet())\n",
    "        predictions = self.algorithm.test(self.data.GetTestSet())\n",
    "        metrics['RMSE'] = RecommenderMetrics.RMSE(predictions)\n",
    "        metrics['MAE'] = RecommenderMetrics.MAE(predictions)\n",
    "        \n",
    "        # Calculate hint rate and cumulative hit rate\n",
    "        print('Evaluating top-N with leave-one-out cross validation...')\n",
    "        self.algorithm.fit(data.GetLOOCVTrainSet())\n",
    "        loopredictions = self.algorithm.test(data.GetLOOCVTestSet())\n",
    "        allpredictions = self.algorithm.test(data.GetLOOCVAntiTestSet())\n",
    "        topNPredicted = RecommenderMetrics.GetTopN(allpredictions, n, minimumRating=4)\n",
    "        \n",
    "        # print('Computing hit-rate and rank metrics...')\n",
    "        metrics['HitRate'] = RecommenderMetrics.HitRate(topNPredicted, loopredictions)\n",
    "        metrics['cHitRate'] = RecommenderMetrics.CumulativeHitRate(topNPredicted, loopredictions, cuttingrating=3)\n",
    "        metrics['ARHR'] = RecommenderMetrics.AverageReciprocalHitRank(topNPredicted, loopredictions)\n",
    "        \n",
    "        # print(\"Computing recommendations with full data set...\")\n",
    "        # self.algorithm.fit(data.GetFullTrainSet())\n",
    "        # allpredictions = self.algorithm.test(data.GetFullAntiTestSet())\n",
    "        # topNPredicted = RecommenderMetrics.GetTopN(allpredictions, n)\n",
    "        \n",
    "        # print(\"Analyzing coverage, diversity, and novelty...\")\n",
    "        # metrics[\"Coverage\"] = RecommenderMetrics.Coverage(topNPredicted, data.GetFullTrainSet().n_users, threshold = 4.0)\n",
    "        # sim_options = {'name': 'cosine', 'user_based': False}\n",
    "        # simsAlgo = KNNBaseline(sim_options=sim_options)\n",
    "        # simsAlgo.fit(data.GetFullTrainSet())\n",
    "        # metrics[\"Diversity\"] = RecommenderMetrics.Diversity(topNPredicted, simsAlgo)\n",
    "        # metrics[\"Novelty\"] = RecommenderMetrics.Novelty(topNPredicted, rankings)\n",
    "        \n",
    "        print('{:<10} {:<10} {:<10} {:<10} {:<10} {:<10}'.format('Algorithm', 'RMSE', 'MAE', 'HitRate', 'cHitRate', 'ARHR'))\n",
    "        print('{:<10} {:<10.4f} {:<10.4f} {:<10.4f} {:<10.4f} {:<10.4f}'.format(self.name, metrics['RMSE'], metrics['MAE'], metrics['HitRate'], metrics['cHitRate'], metrics['ARHR']))\n",
    "    \n",
    "    def SampleTopRec(self, test_subject, k):\n",
    "        self.test_subject = test_subject\n",
    "        self.k = k\n",
    "        print('Using recommender', self.name)\n",
    "        trainSet = self.data.GetTrainSet()\n",
    "        testSet = self.data.GetAntiTestSetUser(test_subject)\n",
    "        model = self.algorithm.fit(trainSet)\n",
    "        predictions = model.test(testSet)\n",
    "\n",
    "        recommendations = []\n",
    "        for userID, movieID, actualRating, predictedRating, _ in predictions:\n",
    "            recommendations.append((int(movieID), predictedRating))\n",
    "            recommendations.sort(key=lambda x: x[1], reverse=True)\n",
    "        for row_recommendations in recommendations[:self.k]:\n",
    "            print(getMovieName(row_recommendations[0]), round(row_recommendations[1], 3))\n",
    "        "
   ]
  },
  {
   "cell_type": "markdown",
   "id": "scenic-formula",
   "metadata": {
    "papermill": {
     "duration": 0.054792,
     "end_time": "2021-07-26T06:11:00.322706",
     "exception": false,
     "start_time": "2021-07-26T06:11:00.267914",
     "status": "completed"
    },
    "tags": []
   },
   "source": [
    "### <a id='m_algorithm'></a>2.3 Algorithm"
   ]
  },
  {
   "cell_type": "markdown",
   "id": "extended-investigation",
   "metadata": {
    "papermill": {
     "duration": 0.054656,
     "end_time": "2021-07-26T06:11:00.433254",
     "exception": false,
     "start_time": "2021-07-26T06:11:00.378598",
     "status": "completed"
    },
    "tags": []
   },
   "source": [
    "### <a id='m_svd'></a>**SVD**\n",
    "\n",
    "[Singular Value Decomposition](https://en.wikipedia.org/wiki/Singular_value_decomposition) (SVD) is a matrix factorisation technique, which can reduce the number of featuresof data by reducing the space diemensions. In recommender system, SVD is usually used as collaborative filtering. [Collaborative filtering](https://en.wikipedia.org/wiki/Collaborative_filtering) is a method to predict the interests of a user by using their past history."
   ]
  },
  {
   "cell_type": "markdown",
   "id": "medium-nepal",
   "metadata": {
    "papermill": {
     "duration": 0.055175,
     "end_time": "2021-07-26T06:11:00.543701",
     "exception": false,
     "start_time": "2021-07-26T06:11:00.488526",
     "status": "completed"
    },
    "tags": []
   },
   "source": [
    "#### Building Model"
   ]
  },
  {
   "cell_type": "code",
   "execution_count": 19,
   "id": "noble-auditor",
   "metadata": {
    "execution": {
     "iopub.execute_input": "2021-07-26T06:11:00.681950Z",
     "iopub.status.busy": "2021-07-26T06:11:00.681260Z",
     "iopub.status.idle": "2021-07-26T06:12:47.122559Z",
     "shell.execute_reply": "2021-07-26T06:12:47.123108Z",
     "shell.execute_reply.started": "2021-07-26T05:43:07.597018Z"
    },
    "papermill": {
     "duration": 106.521699,
     "end_time": "2021-07-26T06:12:47.123295",
     "exception": false,
     "start_time": "2021-07-26T06:11:00.601596",
     "status": "completed"
    },
    "tags": []
   },
   "outputs": [
    {
     "name": "stdout",
     "output_type": "stream",
     "text": [
      "Evaluating accuracy...\n",
      "Evaluating top-N with leave-one-out cross validation...\n",
      "Algorithm  RMSE       MAE        HitRate    cHitRate   ARHR      \n",
      "SVD        0.9034     0.6978     0.0298     0.0340     0.0112    \n"
     ]
    }
   ],
   "source": [
    "num_topn = 10\n",
    "data = EvaluationData(ratingsDataset)\n",
    "SVDAlgorithm = SVD(random_state=10)\n",
    "result_SVD = EvaluatedAlgorithm(SVDAlgorithm, 'SVD')\n",
    "result_SVD.Evaluate(data, num_topn)"
   ]
  },
  {
   "cell_type": "markdown",
   "id": "twelve-officer",
   "metadata": {
    "papermill": {
     "duration": 0.055962,
     "end_time": "2021-07-26T06:12:47.235718",
     "exception": false,
     "start_time": "2021-07-26T06:12:47.179756",
     "status": "completed"
    },
    "tags": []
   },
   "source": [
    "#### Recommend a list for a user"
   ]
  },
  {
   "cell_type": "code",
   "execution_count": 20,
   "id": "becoming-occasions",
   "metadata": {
    "execution": {
     "iopub.execute_input": "2021-07-26T06:12:47.352514Z",
     "iopub.status.busy": "2021-07-26T06:12:47.351854Z",
     "iopub.status.idle": "2021-07-26T06:13:00.148887Z",
     "shell.execute_reply": "2021-07-26T06:13:00.149861Z",
     "shell.execute_reply.started": "2021-07-26T05:44:53.660262Z"
    },
    "papermill": {
     "duration": 12.857658,
     "end_time": "2021-07-26T06:13:00.150204",
     "exception": false,
     "start_time": "2021-07-26T06:12:47.292546",
     "status": "completed"
    },
    "tags": []
   },
   "outputs": [
    {
     "name": "stdout",
     "output_type": "stream",
     "text": [
      "Using recommender SVD\n",
      "All About Eve (1950) 4.472\n",
      "Lord of the Rings: The Fellowship of the Ring, The (2001) 4.41\n",
      "Lord of the Rings: The Two Towers, The (2002) 4.383\n",
      "Lawrence of Arabia (1962) 4.356\n",
      "Princess Bride, The (1987) 4.337\n",
      "Casablanca (1942) 4.327\n",
      "Crimes and Misdemeanors (1989) 4.325\n",
      "American History X (1998) 4.321\n",
      "Roman Holiday (1953) 4.318\n",
      "Spirited Away (Sen to Chihiro no kamikakushi) (2001) 4.314\n"
     ]
    }
   ],
   "source": [
    "test_subject = 85\n",
    "num_rec = 10\n",
    "result_SVD.SampleTopRec(test_subject, num_rec)"
   ]
  },
  {
   "cell_type": "markdown",
   "id": "gross-petroleum",
   "metadata": {
    "papermill": {
     "duration": 0.057118,
     "end_time": "2021-07-26T06:13:00.265672",
     "exception": false,
     "start_time": "2021-07-26T06:13:00.208554",
     "status": "completed"
    },
    "tags": []
   },
   "source": [
    "#### Tune algorithm parameters"
   ]
  },
  {
   "cell_type": "code",
   "execution_count": 21,
   "id": "naughty-aggregate",
   "metadata": {
    "execution": {
     "iopub.execute_input": "2021-07-26T06:13:00.396515Z",
     "iopub.status.busy": "2021-07-26T06:13:00.391301Z",
     "iopub.status.idle": "2021-07-26T06:15:55.692457Z",
     "shell.execute_reply": "2021-07-26T06:15:55.692988Z",
     "shell.execute_reply.started": "2021-07-26T05:45:06.098925Z"
    },
    "papermill": {
     "duration": 175.37009,
     "end_time": "2021-07-26T06:15:55.693161",
     "exception": false,
     "start_time": "2021-07-26T06:13:00.323071",
     "status": "completed"
    },
    "tags": []
   },
   "outputs": [
    {
     "name": "stdout",
     "output_type": "stream",
     "text": [
      "Best RMSE score is: 0.9002787805185215\n",
      "The parameters is: {'n_epochs': 20, 'lr_all': 0.005, 'n_factors': 50}\n"
     ]
    }
   ],
   "source": [
    "dataset = ratingsDataset\n",
    "param_grid = {'n_epochs': [20, 30], \n",
    "              'lr_all': [0.005, 0.01], \n",
    "              'n_factors': [50, 100]}\n",
    "gs = GridSearchCV(SVD, param_grid, measures=['rmse', 'mae'], cv=3)\n",
    "gs.fit(dataset)\n",
    "print('Best RMSE score is:', gs.best_score['rmse'])\n",
    "print('The parameters is:', gs.best_params['rmse'])"
   ]
  },
  {
   "cell_type": "code",
   "execution_count": 22,
   "id": "german-monster",
   "metadata": {
    "execution": {
     "iopub.execute_input": "2021-07-26T06:15:55.811360Z",
     "iopub.status.busy": "2021-07-26T06:15:55.810443Z",
     "iopub.status.idle": "2021-07-26T06:17:22.870846Z",
     "shell.execute_reply": "2021-07-26T06:17:22.871371Z",
     "shell.execute_reply.started": "2021-07-26T05:48:00.406957Z"
    },
    "papermill": {
     "duration": 87.121114,
     "end_time": "2021-07-26T06:17:22.871548",
     "exception": false,
     "start_time": "2021-07-26T06:15:55.750434",
     "status": "completed"
    },
    "tags": []
   },
   "outputs": [
    {
     "name": "stdout",
     "output_type": "stream",
     "text": [
      "Evaluating accuracy...\n",
      "Evaluating top-N with leave-one-out cross validation...\n",
      "Algorithm  RMSE       MAE        HitRate    cHitRate   ARHR      \n",
      "SVD tuned  0.9016     0.6966     0.0387     0.0440     0.0101    \n"
     ]
    }
   ],
   "source": [
    "num_topn = 20\n",
    "params = gs.best_params['rmse']\n",
    "SVDtunedAlgorithm = SVD(n_epochs=params['n_epochs'], lr_all=params['lr_all'], n_factors=params['n_factors'])\n",
    "result_SVD_tuned = EvaluatedAlgorithm(SVDtunedAlgorithm, 'SVD tuned')\n",
    "result_SVD_tuned.Evaluate(data, num_topn)"
   ]
  },
  {
   "cell_type": "markdown",
   "id": "interim-tuner",
   "metadata": {
    "papermill": {
     "duration": 0.057589,
     "end_time": "2021-07-26T06:17:22.988529",
     "exception": false,
     "start_time": "2021-07-26T06:17:22.930940",
     "status": "completed"
    },
    "tags": []
   },
   "source": [
    "#### Recommend a list for a user"
   ]
  },
  {
   "cell_type": "code",
   "execution_count": 23,
   "id": "historic-pharmacology",
   "metadata": {
    "execution": {
     "iopub.execute_input": "2021-07-26T06:17:23.118974Z",
     "iopub.status.busy": "2021-07-26T06:17:23.118075Z",
     "iopub.status.idle": "2021-07-26T06:17:32.962906Z",
     "shell.execute_reply": "2021-07-26T06:17:32.962093Z",
     "shell.execute_reply.started": "2021-07-26T05:49:28.553360Z"
    },
    "papermill": {
     "duration": 9.9166,
     "end_time": "2021-07-26T06:17:32.963100",
     "exception": false,
     "start_time": "2021-07-26T06:17:23.046500",
     "status": "completed"
    },
    "tags": []
   },
   "outputs": [
    {
     "name": "stdout",
     "output_type": "stream",
     "text": [
      "Using recommender SVD tuned\n",
      "Chinatown (1974) 4.39\n",
      "African Queen, The (1951) 4.359\n",
      "Toy Story 3 (2010) 4.309\n",
      "All About Eve (1950) 4.295\n",
      "Seven Samurai (Shichinin no samurai) (1954) 4.29\n",
      "Run Lola Run (Lola rennt) (1998) 4.26\n",
      "No Country for Old Men (2007) 4.258\n",
      "Memento (2000) 4.256\n",
      "Swingers (1996) 4.244\n",
      "Drive (2011) 4.234\n"
     ]
    }
   ],
   "source": [
    "test_subject = 85\n",
    "num_rec = 10\n",
    "result_SVD_tuned.SampleTopRec(test_subject, num_rec)"
   ]
  },
  {
   "cell_type": "markdown",
   "id": "entire-technician",
   "metadata": {
    "papermill": {
     "duration": 0.058884,
     "end_time": "2021-07-26T06:17:33.081919",
     "exception": false,
     "start_time": "2021-07-26T06:17:33.023035",
     "status": "completed"
    },
    "tags": []
   },
   "source": [
    "### <a id='m_userknn'></a>**User-Based KNN**\n",
    "\n",
    "[K-nearest neighbors algorithm](https://en.wikipedia.org/wiki/K-nearest_neighbors_algorithm) (KNN) is a machine learning algorithm which can be used for classification or regression. User-Based means that this technique will find k users who give similar rating then predict the rating of unrated items based on their history. "
   ]
  },
  {
   "cell_type": "markdown",
   "id": "surprised-trustee",
   "metadata": {
    "papermill": {
     "duration": 0.058556,
     "end_time": "2021-07-26T06:17:33.199778",
     "exception": false,
     "start_time": "2021-07-26T06:17:33.141222",
     "status": "completed"
    },
    "tags": []
   },
   "source": [
    "#### Building Model"
   ]
  },
  {
   "cell_type": "code",
   "execution_count": 24,
   "id": "nonprofit-bicycle",
   "metadata": {
    "execution": {
     "iopub.execute_input": "2021-07-26T06:17:33.362098Z",
     "iopub.status.busy": "2021-07-26T06:17:33.356926Z",
     "iopub.status.idle": "2021-07-26T06:21:29.972993Z",
     "shell.execute_reply": "2021-07-26T06:21:29.973553Z",
     "shell.execute_reply.started": "2021-07-26T05:49:38.096305Z"
    },
    "papermill": {
     "duration": 236.715139,
     "end_time": "2021-07-26T06:21:29.973801",
     "exception": false,
     "start_time": "2021-07-26T06:17:33.258662",
     "status": "completed"
    },
    "tags": []
   },
   "outputs": [
    {
     "name": "stdout",
     "output_type": "stream",
     "text": [
      "Evaluating accuracy...\n",
      "Computing the cosine similarity matrix...\n",
      "Done computing similarity matrix.\n",
      "Evaluating top-N with leave-one-out cross validation...\n",
      "Computing the cosine similarity matrix...\n",
      "Done computing similarity matrix.\n",
      "Algorithm  RMSE       MAE        HitRate    cHitRate   ARHR      \n",
      "User KNN   0.9961     0.7711     0.0000     0.0000     0.0000    \n"
     ]
    }
   ],
   "source": [
    "num_topn = 10\n",
    "data = EvaluationData(ratingsDataset)\n",
    "sim_options = {'name': 'cosine', 'user_based': True}\n",
    "UserKNNAlgorithm = KNNBasic(sim_options=sim_options)\n",
    "result_UserKNN = EvaluatedAlgorithm(UserKNNAlgorithm, 'User KNN')\n",
    "result_UserKNN.Evaluate(data, num_topn)"
   ]
  },
  {
   "cell_type": "markdown",
   "id": "exceptional-electron",
   "metadata": {
    "papermill": {
     "duration": 0.061254,
     "end_time": "2021-07-26T06:21:30.095652",
     "exception": false,
     "start_time": "2021-07-26T06:21:30.034398",
     "status": "completed"
    },
    "tags": []
   },
   "source": [
    "#### Recommend a list for a user"
   ]
  },
  {
   "cell_type": "code",
   "execution_count": 25,
   "id": "cooperative-failing",
   "metadata": {
    "execution": {
     "iopub.execute_input": "2021-07-26T06:21:30.231029Z",
     "iopub.status.busy": "2021-07-26T06:21:30.230320Z",
     "iopub.status.idle": "2021-07-26T06:21:36.389612Z",
     "shell.execute_reply": "2021-07-26T06:21:36.388962Z",
     "shell.execute_reply.started": "2021-07-26T05:53:35.471171Z"
    },
    "papermill": {
     "duration": 6.233432,
     "end_time": "2021-07-26T06:21:36.389749",
     "exception": false,
     "start_time": "2021-07-26T06:21:30.156317",
     "status": "completed"
    },
    "tags": []
   },
   "outputs": [
    {
     "name": "stdout",
     "output_type": "stream",
     "text": [
      "Using recommender User KNN\n",
      "Computing the cosine similarity matrix...\n",
      "Done computing similarity matrix.\n",
      "One Magic Christmas (1985) 5\n",
      "Return from Witch Mountain (1978) 5\n",
      "Taste of Cherry (Ta'm e guilass) (1997) 5\n",
      "King Is Alive, The (2000) 5\n",
      "MaelstrÃ¶m (2000) 5\n",
      "Last Seduction, The (1994) 5\n",
      "Faust (1926) 5\n",
      "Seconds (1966) 5\n",
      "Wages of Fear, The (Salaire de la peur, Le) (1953) 5\n",
      "Sergeant York (1941) 5\n"
     ]
    }
   ],
   "source": [
    "test_subject = 85\n",
    "num_rec = 10\n",
    "result_UserKNN.SampleTopRec(test_subject, num_rec)"
   ]
  },
  {
   "cell_type": "markdown",
   "id": "unauthorized-registrar",
   "metadata": {
    "papermill": {
     "duration": 0.061214,
     "end_time": "2021-07-26T06:21:36.569547",
     "exception": false,
     "start_time": "2021-07-26T06:21:36.508333",
     "status": "completed"
    },
    "tags": []
   },
   "source": [
    "### <a id='m_itemknn'></a>**Item-Based KNN**\n",
    "\n",
    "[K-nearest neighbors algorithm](https://en.wikipedia.org/wiki/K-nearest_neighbors_algorithm) (KNN) is a machine learning algorithm which can be used for classification or regression. Item-Based means that this technique will find k similar items that be rated then predict the rating of unrated items based on the history. "
   ]
  },
  {
   "cell_type": "markdown",
   "id": "gorgeous-halloween",
   "metadata": {
    "papermill": {
     "duration": 0.061029,
     "end_time": "2021-07-26T06:21:36.692266",
     "exception": false,
     "start_time": "2021-07-26T06:21:36.631237",
     "status": "completed"
    },
    "tags": []
   },
   "source": [
    "#### Building Model"
   ]
  },
  {
   "cell_type": "code",
   "execution_count": 26,
   "id": "bridal-outdoors",
   "metadata": {
    "execution": {
     "iopub.execute_input": "2021-07-26T06:21:36.839519Z",
     "iopub.status.busy": "2021-07-26T06:21:36.829150Z",
     "iopub.status.idle": "2021-07-26T06:44:13.978050Z",
     "shell.execute_reply": "2021-07-26T06:44:13.978670Z"
    },
    "papermill": {
     "duration": 1357.225435,
     "end_time": "2021-07-26T06:44:13.979100",
     "exception": false,
     "start_time": "2021-07-26T06:21:36.753665",
     "status": "completed"
    },
    "tags": []
   },
   "outputs": [
    {
     "name": "stdout",
     "output_type": "stream",
     "text": [
      "Evaluating accuracy...\n",
      "Computing the cosine similarity matrix...\n",
      "Done computing similarity matrix.\n",
      "Evaluating top-N with leave-one-out cross validation...\n",
      "Computing the cosine similarity matrix...\n",
      "Done computing similarity matrix.\n",
      "Algorithm  RMSE       MAE        HitRate    cHitRate   ARHR      \n",
      "Item KNN   0.9995     0.7798     0.0000     0.0000     0.0000    \n"
     ]
    }
   ],
   "source": [
    "num_topn = 20\n",
    "data = EvaluationData(ratingsDataset)\n",
    "sim_options = {'name': 'cosine', 'user_based': False}\n",
    "ItemKNNAlgorithm = KNNBasic(sim_options=sim_options)\n",
    "result_ItemKNN = EvaluatedAlgorithm(ItemKNNAlgorithm, 'Item KNN')\n",
    "result_ItemKNN.Evaluate(data, num_topn)"
   ]
  },
  {
   "cell_type": "markdown",
   "id": "organic-capital",
   "metadata": {
    "papermill": {
     "duration": 0.064893,
     "end_time": "2021-07-26T06:44:14.108526",
     "exception": false,
     "start_time": "2021-07-26T06:44:14.043633",
     "status": "completed"
    },
    "tags": []
   },
   "source": [
    "#### Recommend a list for a user"
   ]
  },
  {
   "cell_type": "code",
   "execution_count": 27,
   "id": "analyzed-zealand",
   "metadata": {
    "execution": {
     "iopub.execute_input": "2021-07-26T06:44:37.115556Z",
     "iopub.status.busy": "2021-07-26T06:44:14.253428Z",
     "iopub.status.idle": "2021-07-26T06:44:44.072814Z",
     "shell.execute_reply": "2021-07-26T06:44:44.072049Z"
    },
    "papermill": {
     "duration": 29.899986,
     "end_time": "2021-07-26T06:44:44.072991",
     "exception": false,
     "start_time": "2021-07-26T06:44:14.173005",
     "status": "completed"
    },
    "tags": []
   },
   "outputs": [
    {
     "name": "stdout",
     "output_type": "stream",
     "text": [
      "Using recommender Item KNN\n",
      "Computing the cosine similarity matrix...\n",
      "Done computing similarity matrix.\n",
      "Hearts and Minds (1996) 5\n",
      "Black Narcissus (1947) 5\n",
      "Punchline (1988) 5\n",
      "Best Little Whorehouse in Texas, The (1982) 5\n",
      "Under Suspicion (2000) 5\n",
      "Asterix and the Gauls (AstÃ©rix le Gaulois) (1967) 5\n",
      "Find Me Guilty (2006) 5\n",
      "Asterix and the Vikings (AstÃ©rix et les Vikings) (2006) 5\n",
      "From the Sky Down (2011) 5\n",
      "Jason Bourne (2016) 5\n"
     ]
    }
   ],
   "source": [
    "test_subject = 85\n",
    "num_rec = 10\n",
    "result_ItemKNN.SampleTopRec(test_subject, num_rec)"
   ]
  },
  {
   "cell_type": "markdown",
   "id": "american-going",
   "metadata": {
    "papermill": {
     "duration": 0.06491,
     "end_time": "2021-07-26T06:44:44.204862",
     "exception": false,
     "start_time": "2021-07-26T06:44:44.139952",
     "status": "completed"
    },
    "tags": []
   },
   "source": [
    "### <a id='m_rbm'></a>**Restricted Boltzmann Machines**\n",
    "\n",
    "[Restricted Boltzmann Machines](https://en.wikipedia.org/wiki/Restricted_Boltzmann_machine) (BRM): RBMs are a two layers artificial neural network, that are \"visible\" and \"hidden\" layer respectively. All nodes are connected to all other nodes but same layer nodes won't connect with each others."
   ]
  },
  {
   "cell_type": "markdown",
   "id": "responsible-lying",
   "metadata": {
    "papermill": {
     "duration": 0.06698,
     "end_time": "2021-07-26T06:44:44.336903",
     "exception": false,
     "start_time": "2021-07-26T06:44:44.269923",
     "status": "completed"
    },
    "tags": []
   },
   "source": [
    "#### Construct RBM algorithm"
   ]
  },
  {
   "cell_type": "code",
   "execution_count": 28,
   "id": "critical-debate",
   "metadata": {
    "execution": {
     "iopub.execute_input": "2021-07-26T06:44:44.484157Z",
     "iopub.status.busy": "2021-07-26T06:44:44.478776Z",
     "iopub.status.idle": "2021-07-26T06:44:44.497655Z",
     "shell.execute_reply": "2021-07-26T06:44:44.496899Z"
    },
    "papermill": {
     "duration": 0.094487,
     "end_time": "2021-07-26T06:44:44.497823",
     "exception": false,
     "start_time": "2021-07-26T06:44:44.403336",
     "status": "completed"
    },
    "tags": []
   },
   "outputs": [],
   "source": [
    "class RBM(object):\n",
    "    \n",
    "    def __init__(self, epochs, visible_dimensions, hidden_dimensions, learning_rate, batch_size, rating_values=10):\n",
    "        \n",
    "        self.epochs = epochs\n",
    "        self.visible_dimensions = visible_dimensions # (movieID X rating layers)\n",
    "        self.hidden_dimensions = hidden_dimensions\n",
    "        self.learning_rate = learning_rate\n",
    "        self.batch_size = batch_size\n",
    "        self.rating_values = rating_values\n",
    "        \n",
    "    def Train(self, X):\n",
    "        # shape = (visible_dimensions X hidden_dimensions)\n",
    "        self.weights = tf.Variable(tf.random.uniform([self.visible_dimensions, self.hidden_dimensions], minval=-1, maxval=1), tf.float32, name='weights') \n",
    "        # shape = (hidden_dimensions X 1)\n",
    "        self.hidden_bias = tf.Variable(tf.zeros([self.hidden_dimensions]), tf.float32, name='hidden_bias')\n",
    "        # shape = (visible_dimensions X 1)\n",
    "        self.visible_bias = tf.Variable(tf.zeros([self.visible_dimensions]), tf.float32, name='visible_bias')\n",
    "        \n",
    "        for epoch in range(self.epochs):\n",
    "            tran_X = np.array(X)\n",
    "            for num_row in range(0, tran_X.shape[0], self.batch_size):\n",
    "                epochX = tran_X[num_row:num_row+self.batch_size]\n",
    "                self.Network(epochX)\n",
    "            print('Trained epoch', epoch)\n",
    "            \n",
    "    def Network(self, input_user):\n",
    "        # input_user shape is (batch_size X visible_dimensions)\n",
    "        # shape = (batch_size X hidden_dimensions)\n",
    "        intial_hidden_prob = tf.nn.sigmoid(tf.matmul(input_user, self.weights) + self.hidden_bias) \n",
    "        # shape = (batch_size X hidden_dimensions)\n",
    "        hidden_sample = tf.nn.relu(tf.sign(intial_hidden_prob - tf.random.uniform(tf.shape(intial_hidden_prob))))\n",
    "        # shape = (visible_dimensions X hidden_dimensions)\n",
    "        forward = tf.matmul(tf.transpose(input_user), hidden_sample)\n",
    "        \n",
    "        # shape = (batch_size X visible_dimensions)\n",
    "        v = tf.matmul(hidden_sample, tf.transpose(self.weights)) + self.visible_bias\n",
    "        vMask = tf.sign(input_user)\n",
    "        # shape = (batch_size X item number X total of rating)\n",
    "        vMask_missing = tf.reshape(vMask, [tf.shape(v)[0], -1, self.rating_values])\n",
    "        # shape = (batch_size X item number X 1)\n",
    "        # if the array show 1 means the rating is exist but it is 0 means missing value\n",
    "        vMask_missing = tf.reduce_max(vMask_missing, axis=[2], keepdims=True)\n",
    "        \n",
    "        # shape = (batch_size X item number X total of rating)\n",
    "        v = tf.reshape(v, [tf.shape(v)[0], -1, self.rating_values])\n",
    "        # shape = (batch_size X item number X total of rating)\n",
    "        v_prob = tf.nn.softmax(v * vMask_missing)\n",
    "        # shape = (batch_size X visible_dimensions)\n",
    "        v_prob = tf.reshape(v_prob, [tf.shape(v)[0], -1])\n",
    "        \n",
    "        # shape = (batch_size X hidden_dimensions)\n",
    "        h_prob = tf.nn.sigmoid(tf.matmul(v_prob, self.weights) + self.hidden_bias)\n",
    "        # shape = (visible_dimensions X hidden_dimensions)\n",
    "        backward = tf.matmul(tf.transpose(v_prob), h_prob)\n",
    "        \n",
    "        # update weight by adding value to it\n",
    "        weight_update = self.weights.assign_add(self.learning_rate * (forward-backward))\n",
    "        # update hidden bias by adding value to it\n",
    "        hidden_bias_update = self.hidden_bias.assign_add(self.learning_rate * tf.reduce_mean(intial_hidden_prob-h_prob, 0))\n",
    "        # update visible bias by adding value to it\n",
    "        visible_bias_update = self.visible_bias.assign_add(self.learning_rate * tf.reduce_mean(input_user-v_prob, 0))\n",
    "        \n",
    "        self.update = [weight_update, hidden_bias_update, visible_bias_update]\n",
    "        \n",
    "    def MakeHidden(self, input_user):\n",
    "        hidden = tf.nn.sigmoid(tf.matmul(input_user, self.weights) + self.hidden_bias)\n",
    "        return hidden\n",
    "    \n",
    "    def MakeVisible(self, feed):\n",
    "        visible = tf.nn.sigmoid(tf.matmul(feed, tf.transpose(self.weights)) + self.visible_bias)\n",
    "        return visible\n",
    "        \n",
    "    def GetRecommendations(self, input_user):\n",
    "        freed = self.MakeHidden(input_user)\n",
    "        rec = self.MakeVisible(freed)\n",
    "        return rec[0]\n",
    "        "
   ]
  },
  {
   "cell_type": "code",
   "execution_count": 29,
   "id": "fewer-forest",
   "metadata": {
    "execution": {
     "iopub.execute_input": "2021-07-26T06:44:44.645267Z",
     "iopub.status.busy": "2021-07-26T06:44:44.644531Z",
     "iopub.status.idle": "2021-07-26T06:44:44.647914Z",
     "shell.execute_reply": "2021-07-26T06:44:44.646994Z"
    },
    "papermill": {
     "duration": 0.084484,
     "end_time": "2021-07-26T06:44:44.648085",
     "exception": false,
     "start_time": "2021-07-26T06:44:44.563601",
     "status": "completed"
    },
    "tags": []
   },
   "outputs": [],
   "source": [
    "class RBMAlgorithm(AlgoBase):\n",
    "    def __init__(self, epochs, hidden_dimensions=50, learning_rate=0.05, batch_size=100):\n",
    "        AlgoBase.__init__(self)\n",
    "        self.epochs = epochs\n",
    "        self.hidden_dimensions = hidden_dimensions\n",
    "        self.learning_rate = learning_rate\n",
    "        self.batch_size = batch_size\n",
    "        \n",
    "    def softmax(self, x):\n",
    "        return np.exp(x) / np.sum(np.exp(x), axis=0)\n",
    "    \n",
    "    def fit(self, trainset):\n",
    "        AlgoBase.fit(self, trainset)\n",
    "        \n",
    "        num_users = trainset.n_users\n",
    "        num_items = trainset.n_items\n",
    "        \n",
    "        training_matrix = np.zeros([num_users, num_items, 10], dtype=np.float32)\n",
    "        for (uid, iid, rating) in trainset.all_ratings():\n",
    "            adjustedrating = int(rating*2)-1\n",
    "            training_matrix[int(uid), int(iid), adjustedrating] = 1\n",
    "\n",
    "        training_matrix = np.reshape(training_matrix, [training_matrix.shape[0], -1])\n",
    "        \n",
    "        rbm = RBM(epochs=self.epochs, visible_dimensions=training_matrix.shape[1], hidden_dimensions=self.hidden_dimensions, learning_rate=self.learning_rate, batch_size=self.batch_size)\n",
    "        rbm.Train(training_matrix)\n",
    "        \n",
    "        self.predictedRatings = np.zeros([num_users, num_items], dtype=np.float32)\n",
    "        for userID in range(num_users):\n",
    "            recs = rbm.GetRecommendations([training_matrix[userID]])\n",
    "            recs = np.reshape(recs, [num_items, 10])\n",
    "            \n",
    "            for itemID, est in enumerate(recs):\n",
    "                normalized = self.softmax(est)\n",
    "                ratings = np.average(np.arange(10), weights=normalized)\n",
    "                self.predictedRatings[userID, itemID] = (ratings+1) * 0.5\n",
    "        return self\n",
    "    \n",
    "    def estimate(self, user, item):\n",
    "        if not (self.trainset.knows_user(user) and self.trainset.knows_item(item)):\n",
    "            raise PredictionImpossible('User and/ or Movie is unknown.')\n",
    "        rating = self.predictedRatings[user, item]\n",
    "        if (rating < 0.001):\n",
    "            raise PredictionImpossible('No valid prediction exists')\n",
    "        return rating"
   ]
  },
  {
   "cell_type": "markdown",
   "id": "silent-lucas",
   "metadata": {
    "papermill": {
     "duration": 0.065994,
     "end_time": "2021-07-26T06:44:44.779760",
     "exception": false,
     "start_time": "2021-07-26T06:44:44.713766",
     "status": "completed"
    },
    "tags": []
   },
   "source": [
    "#### Building Model"
   ]
  },
  {
   "cell_type": "code",
   "execution_count": 30,
   "id": "intended-guarantee",
   "metadata": {
    "execution": {
     "iopub.execute_input": "2021-07-26T06:44:44.935328Z",
     "iopub.status.busy": "2021-07-26T06:44:44.934537Z",
     "iopub.status.idle": "2021-07-26T06:58:15.392382Z",
     "shell.execute_reply": "2021-07-26T06:58:15.392968Z"
    },
    "papermill": {
     "duration": 810.548537,
     "end_time": "2021-07-26T06:58:15.393186",
     "exception": false,
     "start_time": "2021-07-26T06:44:44.844649",
     "status": "completed"
    },
    "tags": []
   },
   "outputs": [
    {
     "name": "stdout",
     "output_type": "stream",
     "text": [
      "Evaluating accuracy...\n",
      "Trained epoch 0\n",
      "Trained epoch 1\n",
      "Trained epoch 2\n",
      "Trained epoch 3\n",
      "Trained epoch 4\n",
      "Trained epoch 5\n",
      "Trained epoch 6\n",
      "Trained epoch 7\n",
      "Trained epoch 8\n",
      "Trained epoch 9\n",
      "Trained epoch 10\n",
      "Trained epoch 11\n",
      "Trained epoch 12\n",
      "Trained epoch 13\n",
      "Trained epoch 14\n",
      "Trained epoch 15\n",
      "Trained epoch 16\n",
      "Trained epoch 17\n",
      "Trained epoch 18\n",
      "Trained epoch 19\n",
      "Evaluating top-N with leave-one-out cross validation...\n",
      "Trained epoch 0\n",
      "Trained epoch 1\n",
      "Trained epoch 2\n",
      "Trained epoch 3\n",
      "Trained epoch 4\n",
      "Trained epoch 5\n",
      "Trained epoch 6\n",
      "Trained epoch 7\n",
      "Trained epoch 8\n",
      "Trained epoch 9\n",
      "Trained epoch 10\n",
      "Trained epoch 11\n",
      "Trained epoch 12\n",
      "Trained epoch 13\n",
      "Trained epoch 14\n",
      "Trained epoch 15\n",
      "Trained epoch 16\n",
      "Trained epoch 17\n",
      "Trained epoch 18\n",
      "Trained epoch 19\n",
      "Algorithm  RMSE       MAE        HitRate    cHitRate   ARHR      \n",
      "RBM        1.1868     0.9909     0.0000     0.0000     0.0000    \n"
     ]
    }
   ],
   "source": [
    "num_topn = 10\n",
    "data = EvaluationData(ratingsDataset)\n",
    "RBM_Algorithm = RBMAlgorithm(epochs=20)\n",
    "result_RBM = EvaluatedAlgorithm(RBM_Algorithm, 'RBM')\n",
    "result_RBM.Evaluate(data, num_topn)"
   ]
  },
  {
   "cell_type": "markdown",
   "id": "meaning-usage",
   "metadata": {
    "papermill": {
     "duration": 0.080914,
     "end_time": "2021-07-26T06:58:15.552939",
     "exception": false,
     "start_time": "2021-07-26T06:58:15.472025",
     "status": "completed"
    },
    "tags": []
   },
   "source": [
    "#### Recommend a list for a user"
   ]
  },
  {
   "cell_type": "code",
   "execution_count": 31,
   "id": "electronic-ceramic",
   "metadata": {
    "execution": {
     "iopub.execute_input": "2021-07-26T06:58:15.727379Z",
     "iopub.status.busy": "2021-07-26T06:58:15.723073Z",
     "iopub.status.idle": "2021-07-26T07:03:37.840897Z",
     "shell.execute_reply": "2021-07-26T07:03:37.841709Z"
    },
    "papermill": {
     "duration": 322.208565,
     "end_time": "2021-07-26T07:03:37.842005",
     "exception": false,
     "start_time": "2021-07-26T06:58:15.633440",
     "status": "completed"
    },
    "tags": []
   },
   "outputs": [
    {
     "name": "stdout",
     "output_type": "stream",
     "text": [
      "Using recommender RBM\n",
      "Trained epoch 0\n",
      "Trained epoch 1\n",
      "Trained epoch 2\n",
      "Trained epoch 3\n",
      "Trained epoch 4\n",
      "Trained epoch 5\n",
      "Trained epoch 6\n",
      "Trained epoch 7\n",
      "Trained epoch 8\n",
      "Trained epoch 9\n",
      "Trained epoch 10\n",
      "Trained epoch 11\n",
      "Trained epoch 12\n",
      "Trained epoch 13\n",
      "Trained epoch 14\n",
      "Trained epoch 15\n",
      "Trained epoch 16\n",
      "Trained epoch 17\n",
      "Trained epoch 18\n",
      "Trained epoch 19\n",
      "White Stripes Under Great White Northern Lights, The (2009) 3.545\n",
      "Rocketship X-M (1950) 3.545\n",
      "Love & Sex (2000) 3.545\n",
      "Deterrence (1999) 3.545\n",
      "Criminal Lovers (1999) 3.545\n",
      "Amazon Women on the Moon (1987) 3.545\n",
      "Innocence (2000) 3.545\n",
      "Medium Cool (1969) 3.545\n",
      "Year One (2009) 3.545\n",
      "Steam of Life (Miesten vuoro) (2010) 3.545\n"
     ]
    }
   ],
   "source": [
    "test_subject = 85\n",
    "num_rec = 10\n",
    "result_RBM.SampleTopRec(test_subject, num_rec)"
   ]
  },
  {
   "cell_type": "markdown",
   "id": "driving-chemical",
   "metadata": {
    "papermill": {
     "duration": 0.085328,
     "end_time": "2021-07-26T07:03:38.015232",
     "exception": false,
     "start_time": "2021-07-26T07:03:37.929904",
     "status": "completed"
    },
    "tags": []
   },
   "source": [
    "### <a id='m_ae'></a>**AutoEncoder**\n",
    "\n",
    "[AutoEncoder](https://en.wikipedia.org/wiki/Autoencoder): It is a type of artificial neural network that is consisted by two part - an encoder and a decoder. Encoder is mainly building up weights and biases between input and hidden layer. Decoder is reconstructing output."
   ]
  },
  {
   "cell_type": "markdown",
   "id": "derived-direction",
   "metadata": {
    "papermill": {
     "duration": 0.085046,
     "end_time": "2021-07-26T07:03:38.185403",
     "exception": false,
     "start_time": "2021-07-26T07:03:38.100357",
     "status": "completed"
    },
    "tags": []
   },
   "source": [
    "#### Construct AutoEncoder algorithm"
   ]
  },
  {
   "cell_type": "code",
   "execution_count": 32,
   "id": "inappropriate-strip",
   "metadata": {
    "execution": {
     "iopub.execute_input": "2021-07-26T07:03:38.369545Z",
     "iopub.status.busy": "2021-07-26T07:03:38.368390Z",
     "iopub.status.idle": "2021-07-26T07:03:38.379789Z",
     "shell.execute_reply": "2021-07-26T07:03:38.379038Z"
    },
    "papermill": {
     "duration": 0.107525,
     "end_time": "2021-07-26T07:03:38.380008",
     "exception": false,
     "start_time": "2021-07-26T07:03:38.272483",
     "status": "completed"
    },
    "tags": []
   },
   "outputs": [],
   "source": [
    "class AutoEncoder(object):\n",
    "    \n",
    "    def __init__(self, epochs, input_dimensions, hidden_dimensions, learning_rate, batch_size):\n",
    "        self.epochs = epochs\n",
    "        self.input_dimensions = input_dimensions\n",
    "        self.hidden_dimensions = hidden_dimensions\n",
    "        self.learning_rate = learning_rate\n",
    "        self.batch_size = batch_size\n",
    "        self.optimizer = tf.keras.optimizers.SGD(learning_rate=self.learning_rate)\n",
    "        \n",
    "    def Train(self, X):\n",
    "        for epoch in range(self.epochs):\n",
    "            for num_row in range(0, X.shape[0], self.batch_size):\n",
    "                epochX = X[num_row:num_row+self.batch_size]\n",
    "                self.run_optimizer(epochX)\n",
    "            print('Trained epoch', epoch)\n",
    "    \n",
    "    def Network(self, input_user):\n",
    "        # input_user shape is (batch_size X visible_dimensions)\n",
    "        self.weights = {\n",
    "            'w': tf.Variable(tf.random.normal([self.input_dimensions, self.hidden_dimensions])),\n",
    "            'out': tf.Variable(tf.random.normal([self.hidden_dimensions, self.input_dimensions]))\n",
    "        }\n",
    "        \n",
    "        self.biases = {\n",
    "            'b': tf.Variable(tf.random.normal([self.hidden_dimensions])),\n",
    "            'out': tf.Variable(tf.random.normal([self.input_dimensions]))\n",
    "        }\n",
    "        \n",
    "        self.input_layer = input_user\n",
    "        \n",
    "        hidden = tf.nn.sigmoid(tf.add(tf.matmul(self.input_layer, self.weights['w']), self.biases['b']))\n",
    "        \n",
    "        self.output_layer = tf.nn.sigmoid(tf.add(tf.matmul(hidden, self.weights['out']), self.biases['out']))\n",
    "        \n",
    "        return self.output_layer\n",
    "    \n",
    "    def run_optimizer(self, input_user):\n",
    "        with tf.GradientTape() as g:\n",
    "            pred = self.Network(input_user)\n",
    "            loss = tf.keras.losses.mean_squared_error(input_user, pred)\n",
    "            \n",
    "        train_variables = list(self.weights.values())+list(self.biases.values())\n",
    "        gradients = g.gradient(loss, train_variables)\n",
    "        self.optimizer.apply_gradients(zip(gradients, train_variables))\n",
    "        \n",
    "    def GetRecommendations(self, input_user):\n",
    "        rec = self.Network(input_user)\n",
    "        return rec[0]"
   ]
  },
  {
   "cell_type": "code",
   "execution_count": 33,
   "id": "inappropriate-rehabilitation",
   "metadata": {
    "execution": {
     "iopub.execute_input": "2021-07-26T07:03:38.566618Z",
     "iopub.status.busy": "2021-07-26T07:03:38.565445Z",
     "iopub.status.idle": "2021-07-26T07:03:38.568791Z",
     "shell.execute_reply": "2021-07-26T07:03:38.568116Z"
    },
    "papermill": {
     "duration": 0.102958,
     "end_time": "2021-07-26T07:03:38.568954",
     "exception": false,
     "start_time": "2021-07-26T07:03:38.465996",
     "status": "completed"
    },
    "tags": []
   },
   "outputs": [],
   "source": [
    "class AutoEncoderAlgorithm(AlgoBase):\n",
    "    def __init__(self, epochs, hidden_dimensions=100, learning_rate=0.01, batch_size=100):\n",
    "        AlgoBase.__init__(self)\n",
    "        self.epochs = epochs\n",
    "        self.hidden_dimensions = hidden_dimensions\n",
    "        self.learning_rate = learning_rate\n",
    "        self.batch_size = batch_size\n",
    "        \n",
    "    def fit(self, trainset):\n",
    "        AlgoBase.fit(self, trainset)\n",
    "        \n",
    "        num_users = trainset.n_users\n",
    "        num_items = trainset.n_items\n",
    "        \n",
    "        training_matrix = np.zeros([num_users, num_items], dtype=np.float32)\n",
    "        \n",
    "        for (uid, iid, rating) in trainset.all_ratings():\n",
    "            training_matrix[int(uid), int(iid)] = rating/5 # normalized. the range of rating is 0.5 to 5\n",
    "            \n",
    "        autoencoder = AutoEncoder(epochs = self.epochs, input_dimensions = training_matrix.shape[1], hidden_dimensions = self.hidden_dimensions, learning_rate = self.learning_rate, batch_size = self.batch_size)\n",
    "        autoencoder.Train(training_matrix)\n",
    "        \n",
    "        self.predictedRatings = np.zeros([num_users, num_items], dtype=np.float32)\n",
    "        for userID in range(num_users):\n",
    "            recs = autoencoder.GetRecommendations([training_matrix[userID]])\n",
    "            \n",
    "            for itemID, est in enumerate(recs):\n",
    "                self.predictedRatings[userID, itemID] = est * 5\n",
    "        return self\n",
    "    \n",
    "    def estimate(self, user, item):\n",
    "        if not (self.trainset.knows_user(user) and self.trainset.knows_item(item)):\n",
    "            raise PredictionImpossible('User and/ or Movie is unknown.')\n",
    "        rating = self.predictedRatings[user, item]\n",
    "        if (rating < 0.001):\n",
    "            raise PredictionImpossible('No valid prediction exists')\n",
    "        return rating"
   ]
  },
  {
   "cell_type": "markdown",
   "id": "appropriate-berkeley",
   "metadata": {
    "papermill": {
     "duration": 0.088302,
     "end_time": "2021-07-26T07:03:38.745020",
     "exception": false,
     "start_time": "2021-07-26T07:03:38.656718",
     "status": "completed"
    },
    "tags": []
   },
   "source": [
    "#### Building Model"
   ]
  },
  {
   "cell_type": "code",
   "execution_count": 34,
   "id": "growing-programmer",
   "metadata": {
    "execution": {
     "iopub.execute_input": "2021-07-26T07:03:38.923625Z",
     "iopub.status.busy": "2021-07-26T07:03:38.922542Z",
     "iopub.status.idle": "2021-07-26T07:30:57.478331Z",
     "shell.execute_reply": "2021-07-26T07:30:57.478946Z"
    },
    "papermill": {
     "duration": 1638.647201,
     "end_time": "2021-07-26T07:30:57.479197",
     "exception": false,
     "start_time": "2021-07-26T07:03:38.831996",
     "status": "completed"
    },
    "tags": []
   },
   "outputs": [
    {
     "name": "stdout",
     "output_type": "stream",
     "text": [
      "Evaluating accuracy...\n",
      "Trained epoch 0\n",
      "Trained epoch 1\n",
      "Trained epoch 2\n",
      "Trained epoch 3\n",
      "Trained epoch 4\n",
      "Trained epoch 5\n",
      "Trained epoch 6\n",
      "Trained epoch 7\n",
      "Trained epoch 8\n",
      "Trained epoch 9\n",
      "Trained epoch 10\n",
      "Trained epoch 11\n",
      "Trained epoch 12\n",
      "Trained epoch 13\n",
      "Trained epoch 14\n",
      "Trained epoch 15\n",
      "Trained epoch 16\n",
      "Trained epoch 17\n",
      "Trained epoch 18\n",
      "Trained epoch 19\n",
      "Trained epoch 20\n",
      "Trained epoch 21\n",
      "Trained epoch 22\n",
      "Trained epoch 23\n",
      "Trained epoch 24\n",
      "Trained epoch 25\n",
      "Trained epoch 26\n",
      "Trained epoch 27\n",
      "Trained epoch 28\n",
      "Trained epoch 29\n",
      "Trained epoch 30\n",
      "Trained epoch 31\n",
      "Trained epoch 32\n",
      "Trained epoch 33\n",
      "Trained epoch 34\n",
      "Trained epoch 35\n",
      "Trained epoch 36\n",
      "Trained epoch 37\n",
      "Trained epoch 38\n",
      "Trained epoch 39\n",
      "Trained epoch 40\n",
      "Trained epoch 41\n",
      "Trained epoch 42\n",
      "Trained epoch 43\n",
      "Trained epoch 44\n",
      "Trained epoch 45\n",
      "Trained epoch 46\n",
      "Trained epoch 47\n",
      "Trained epoch 48\n",
      "Trained epoch 49\n",
      "Trained epoch 50\n",
      "Trained epoch 51\n",
      "Trained epoch 52\n",
      "Trained epoch 53\n",
      "Trained epoch 54\n",
      "Trained epoch 55\n",
      "Trained epoch 56\n",
      "Trained epoch 57\n",
      "Trained epoch 58\n",
      "Trained epoch 59\n",
      "Trained epoch 60\n",
      "Trained epoch 61\n",
      "Trained epoch 62\n",
      "Trained epoch 63\n",
      "Trained epoch 64\n",
      "Trained epoch 65\n",
      "Trained epoch 66\n",
      "Trained epoch 67\n",
      "Trained epoch 68\n",
      "Trained epoch 69\n",
      "Trained epoch 70\n",
      "Trained epoch 71\n",
      "Trained epoch 72\n",
      "Trained epoch 73\n",
      "Trained epoch 74\n",
      "Trained epoch 75\n",
      "Trained epoch 76\n",
      "Trained epoch 77\n",
      "Trained epoch 78\n",
      "Trained epoch 79\n",
      "Trained epoch 80\n",
      "Trained epoch 81\n",
      "Trained epoch 82\n",
      "Trained epoch 83\n",
      "Trained epoch 84\n",
      "Trained epoch 85\n",
      "Trained epoch 86\n",
      "Trained epoch 87\n",
      "Trained epoch 88\n",
      "Trained epoch 89\n",
      "Trained epoch 90\n",
      "Trained epoch 91\n",
      "Trained epoch 92\n",
      "Trained epoch 93\n",
      "Trained epoch 94\n",
      "Trained epoch 95\n",
      "Trained epoch 96\n",
      "Trained epoch 97\n",
      "Trained epoch 98\n",
      "Trained epoch 99\n",
      "Evaluating top-N with leave-one-out cross validation...\n",
      "Trained epoch 0\n",
      "Trained epoch 1\n",
      "Trained epoch 2\n",
      "Trained epoch 3\n",
      "Trained epoch 4\n",
      "Trained epoch 5\n",
      "Trained epoch 6\n",
      "Trained epoch 7\n",
      "Trained epoch 8\n",
      "Trained epoch 9\n",
      "Trained epoch 10\n",
      "Trained epoch 11\n",
      "Trained epoch 12\n",
      "Trained epoch 13\n",
      "Trained epoch 14\n",
      "Trained epoch 15\n",
      "Trained epoch 16\n",
      "Trained epoch 17\n",
      "Trained epoch 18\n",
      "Trained epoch 19\n",
      "Trained epoch 20\n",
      "Trained epoch 21\n",
      "Trained epoch 22\n",
      "Trained epoch 23\n",
      "Trained epoch 24\n",
      "Trained epoch 25\n",
      "Trained epoch 26\n",
      "Trained epoch 27\n",
      "Trained epoch 28\n",
      "Trained epoch 29\n",
      "Trained epoch 30\n",
      "Trained epoch 31\n",
      "Trained epoch 32\n",
      "Trained epoch 33\n",
      "Trained epoch 34\n",
      "Trained epoch 35\n",
      "Trained epoch 36\n",
      "Trained epoch 37\n",
      "Trained epoch 38\n",
      "Trained epoch 39\n",
      "Trained epoch 40\n",
      "Trained epoch 41\n",
      "Trained epoch 42\n",
      "Trained epoch 43\n",
      "Trained epoch 44\n",
      "Trained epoch 45\n",
      "Trained epoch 46\n",
      "Trained epoch 47\n",
      "Trained epoch 48\n",
      "Trained epoch 49\n",
      "Trained epoch 50\n",
      "Trained epoch 51\n",
      "Trained epoch 52\n",
      "Trained epoch 53\n",
      "Trained epoch 54\n",
      "Trained epoch 55\n",
      "Trained epoch 56\n",
      "Trained epoch 57\n",
      "Trained epoch 58\n",
      "Trained epoch 59\n",
      "Trained epoch 60\n",
      "Trained epoch 61\n",
      "Trained epoch 62\n",
      "Trained epoch 63\n",
      "Trained epoch 64\n",
      "Trained epoch 65\n",
      "Trained epoch 66\n",
      "Trained epoch 67\n",
      "Trained epoch 68\n",
      "Trained epoch 69\n",
      "Trained epoch 70\n",
      "Trained epoch 71\n",
      "Trained epoch 72\n",
      "Trained epoch 73\n",
      "Trained epoch 74\n",
      "Trained epoch 75\n",
      "Trained epoch 76\n",
      "Trained epoch 77\n",
      "Trained epoch 78\n",
      "Trained epoch 79\n",
      "Trained epoch 80\n",
      "Trained epoch 81\n",
      "Trained epoch 82\n",
      "Trained epoch 83\n",
      "Trained epoch 84\n",
      "Trained epoch 85\n",
      "Trained epoch 86\n",
      "Trained epoch 87\n",
      "Trained epoch 88\n",
      "Trained epoch 89\n",
      "Trained epoch 90\n",
      "Trained epoch 91\n",
      "Trained epoch 92\n",
      "Trained epoch 93\n",
      "Trained epoch 94\n",
      "Trained epoch 95\n",
      "Trained epoch 96\n",
      "Trained epoch 97\n",
      "Trained epoch 98\n",
      "Trained epoch 99\n",
      "Algorithm  RMSE       MAE        HitRate    cHitRate   ARHR      \n",
      "AutoEnco   2.0421     1.6802     0.0089     0.0153     0.0059    \n"
     ]
    }
   ],
   "source": [
    "num_topn = 10\n",
    "data = EvaluationData(ratingsDataset)\n",
    "AutoEncoder_Algorithm = AutoEncoderAlgorithm(epochs=100)\n",
    "result_AutoEncoder = EvaluatedAlgorithm(AutoEncoder_Algorithm, 'AutoEnco')\n",
    "result_AutoEncoder.Evaluate(data, num_topn)"
   ]
  },
  {
   "cell_type": "markdown",
   "id": "growing-tomorrow",
   "metadata": {
    "papermill": {
     "duration": 0.149598,
     "end_time": "2021-07-26T07:30:57.777069",
     "exception": false,
     "start_time": "2021-07-26T07:30:57.627471",
     "status": "completed"
    },
    "tags": []
   },
   "source": [
    "#### Recommend a list for a user"
   ]
  },
  {
   "cell_type": "code",
   "execution_count": 35,
   "id": "acquired-enlargement",
   "metadata": {
    "execution": {
     "iopub.execute_input": "2021-07-26T07:30:58.090998Z",
     "iopub.status.busy": "2021-07-26T07:30:58.090169Z",
     "iopub.status.idle": "2021-07-26T07:42:52.227289Z",
     "shell.execute_reply": "2021-07-26T07:42:52.227981Z"
    },
    "papermill": {
     "duration": 714.302034,
     "end_time": "2021-07-26T07:42:52.228238",
     "exception": false,
     "start_time": "2021-07-26T07:30:57.926204",
     "status": "completed"
    },
    "tags": []
   },
   "outputs": [
    {
     "name": "stdout",
     "output_type": "stream",
     "text": [
      "Using recommender AutoEnco\n",
      "Trained epoch 0\n",
      "Trained epoch 1\n",
      "Trained epoch 2\n",
      "Trained epoch 3\n",
      "Trained epoch 4\n",
      "Trained epoch 5\n",
      "Trained epoch 6\n",
      "Trained epoch 7\n",
      "Trained epoch 8\n",
      "Trained epoch 9\n",
      "Trained epoch 10\n",
      "Trained epoch 11\n",
      "Trained epoch 12\n",
      "Trained epoch 13\n",
      "Trained epoch 14\n",
      "Trained epoch 15\n",
      "Trained epoch 16\n",
      "Trained epoch 17\n",
      "Trained epoch 18\n",
      "Trained epoch 19\n",
      "Trained epoch 20\n",
      "Trained epoch 21\n",
      "Trained epoch 22\n",
      "Trained epoch 23\n",
      "Trained epoch 24\n",
      "Trained epoch 25\n",
      "Trained epoch 26\n",
      "Trained epoch 27\n",
      "Trained epoch 28\n",
      "Trained epoch 29\n",
      "Trained epoch 30\n",
      "Trained epoch 31\n",
      "Trained epoch 32\n",
      "Trained epoch 33\n",
      "Trained epoch 34\n",
      "Trained epoch 35\n",
      "Trained epoch 36\n",
      "Trained epoch 37\n",
      "Trained epoch 38\n",
      "Trained epoch 39\n",
      "Trained epoch 40\n",
      "Trained epoch 41\n",
      "Trained epoch 42\n",
      "Trained epoch 43\n",
      "Trained epoch 44\n",
      "Trained epoch 45\n",
      "Trained epoch 46\n",
      "Trained epoch 47\n",
      "Trained epoch 48\n",
      "Trained epoch 49\n",
      "Trained epoch 50\n",
      "Trained epoch 51\n",
      "Trained epoch 52\n",
      "Trained epoch 53\n",
      "Trained epoch 54\n",
      "Trained epoch 55\n",
      "Trained epoch 56\n",
      "Trained epoch 57\n",
      "Trained epoch 58\n",
      "Trained epoch 59\n",
      "Trained epoch 60\n",
      "Trained epoch 61\n",
      "Trained epoch 62\n",
      "Trained epoch 63\n",
      "Trained epoch 64\n",
      "Trained epoch 65\n",
      "Trained epoch 66\n",
      "Trained epoch 67\n",
      "Trained epoch 68\n",
      "Trained epoch 69\n",
      "Trained epoch 70\n",
      "Trained epoch 71\n",
      "Trained epoch 72\n",
      "Trained epoch 73\n",
      "Trained epoch 74\n",
      "Trained epoch 75\n",
      "Trained epoch 76\n",
      "Trained epoch 77\n",
      "Trained epoch 78\n",
      "Trained epoch 79\n",
      "Trained epoch 80\n",
      "Trained epoch 81\n",
      "Trained epoch 82\n",
      "Trained epoch 83\n",
      "Trained epoch 84\n",
      "Trained epoch 85\n",
      "Trained epoch 86\n",
      "Trained epoch 87\n",
      "Trained epoch 88\n",
      "Trained epoch 89\n",
      "Trained epoch 90\n",
      "Trained epoch 91\n",
      "Trained epoch 92\n",
      "Trained epoch 93\n",
      "Trained epoch 94\n",
      "Trained epoch 95\n",
      "Trained epoch 96\n",
      "Trained epoch 97\n",
      "Trained epoch 98\n",
      "Trained epoch 99\n",
      "Dumbo (1941) 5\n",
      "Psycho (1960) 5\n",
      "Groundhog Day (1993) 5\n",
      "Alien: Resurrection (1997) 5\n",
      "Jungle Book, The (1994) 5\n",
      "Manchurian Candidate, The (1962) 5\n",
      "Night at the Opera, A (1935) 5\n",
      "Cold Mountain (2003) 5\n",
      "Harry Potter and the Goblet of Fire (2005) 5\n",
      "Tropic Thunder (2008) 5\n"
     ]
    }
   ],
   "source": [
    "test_subject = 85\n",
    "num_rec = 10\n",
    "result_AutoEncoder.SampleTopRec(test_subject, num_rec)"
   ]
  },
  {
   "cell_type": "markdown",
   "id": "harmful-tyler",
   "metadata": {
    "papermill": {
     "duration": 0.183199,
     "end_time": "2021-07-26T07:42:52.593158",
     "exception": false,
     "start_time": "2021-07-26T07:42:52.409959",
     "status": "completed"
    },
    "tags": []
   },
   "source": [
    "## 3. <a id='summary'></a>Summary"
   ]
  },
  {
   "cell_type": "markdown",
   "id": "informational-audio",
   "metadata": {
    "papermill": {
     "duration": 0.180566,
     "end_time": "2021-07-26T07:42:52.958545",
     "exception": false,
     "start_time": "2021-07-26T07:42:52.777979",
     "status": "completed"
    },
    "tags": []
   },
   "source": [
    "|Algorithm  |RMSE      |MAE       |HitRate   |cHitRate  |ARHR      |\n",
    "|  :----:   |  :----:  |  :----:  |  :----:  |  :----:  |  :----:  |\n",
    "|SVD        |0.9034    |0.6978    |0.0298    |0.0340    |0.0112    |\n",
    "|SVD tuned  |0.9005    |0.6961    |0.0387    |0.0438    |0.0156    |\n",
    "|User KNN   |0.9961    |0.7711    |0.0000    |0.0000    |0.0000    |\n",
    "|Item KNN   |0.9995    |0.7798    |0.0000    |0.0000    |0.0000    |\n",
    "|RBM        |1.1794    |0.9842    |0.0000    |0.0000    |0.0000    |\n",
    "|AutoEncoder|2.0317    |1.6709    |0.0060    |0.0102    |0.0025    |\n",
    "\n",
    "Auto Encodeer has the largest RMSE and MAE. SVD tuned has the highest HitRate, cHitRate and ARHR. If we consider hyperparameter or different topologies, the result may be different.\n",
    "\n",
    "For the userID 85, different algorithms provide different recommendations.\n",
    "\n",
    "\n",
    "|Algorithm  |Recommendations   |Algorithm  |Recommendations   |\n",
    "|  :----:   |:----             |  :----:   |:----             |\n",
    "|SVD        |All About Eve (1950) <br> Lord of the Rings: The Fellowship of the Ring (2001) <br> Lord of the Rings: The Two Towers (2002) <br> Lawrence of Arabia (1962) <br> Princess Bride(1987) <br> Casablanca (1942) <br> Crimes and Misdemeanors (1989) <br> American History X (1998) <br> Roman Holiday (1953) <br> Spirited Away (Sen to Chihiro no kamikakushi) (2001)|SVD tuned  |Lawrence of Arabia (1962) <br> Duck Soup (1933) <br> Happiness (1998) <br> Chinatown (1974) <br> All About Eve (1950) <br> Singin' in the Rain (1952) <br> African Queen, The (1951) <br> Wallace & Gromit: A Close Shave (1995) <br> Cool Hand Luke (1967) <br> Raging Bull (1980) |\n",
    "|User KNN   |One Magic Christmas (1985) <br> Return from Witch Mountain (1978) <br> Taste of Cherry (Ta'm e guilass) (1997) <br> King Is Alive (2000) <br> MaelstrÃ¶m (2000)<br> Last Seduction (1994)<br> Faust (1926) <br> Seconds (1966) <br> Wages of Fear (1953) <br> Sergeant York (1941) |Item KNN   | Hearts and Minds (1996) <br> Black Narcissus (1947) <br> Punchline (1988) <br> Best Little Whorehouse in Texas (1982) <br> Under Suspicion (2000) <br> Asterix and the Gauls (AstÃ©rix le Gaulois) (1967) <br> Find Me Guilty (2006) <br> Asterix and the Vikings (AstÃ©rix et les Vikings) (2006) <br> From the Sky Down (2011) <br> Jason Bourne (2016) |\n",
    "|RBM        |White Stripes Under Great White Northern Lights (2009) <br> Rocketship X-M (1950) <br> Love & Sex (2000) <br> Deterrence (1999) <br> Criminal Lovers (1999) <br> Amazon Women on the Moon (1987) <br> Innocence (2000) <br> Medium Cool (1969) <br> Year One (2009) <br> Steam of Life (Miesten vuoro) (2010) |AutoEncoder | Sleepless in Seattle (1993) <br> Bambi (1942) <br> Mystery Men (1999) <br> Toy Story (1995) <br> Field of Dreams (1989) <br> Finding Forrester (2000) <br> Top Gun (1986) <br> Unbreakable (2000) <br> Bridget Jones's Diary (2001) <br> Reign of Fire (2002)|"
   ]
  },
  {
   "cell_type": "code",
   "execution_count": null,
   "id": "sitting-venue",
   "metadata": {
    "papermill": {
     "duration": 0.392486,
     "end_time": "2021-07-26T07:42:53.535047",
     "exception": false,
     "start_time": "2021-07-26T07:42:53.142561",
     "status": "completed"
    },
    "tags": []
   },
   "outputs": [],
   "source": []
  }
 ],
 "metadata": {
  "kernelspec": {
   "display_name": "Python 3",
   "language": "python",
   "name": "python3"
  },
  "language_info": {
   "codemirror_mode": {
    "name": "ipython",
    "version": 3
   },
   "file_extension": ".py",
   "mimetype": "text/x-python",
   "name": "python",
   "nbconvert_exporter": "python",
   "pygments_lexer": "ipython3",
   "version": "3.7.10"
  },
  "papermill": {
   "default_parameters": {},
   "duration": 5553.925042,
   "end_time": "2021-07-26T07:42:57.605245",
   "environment_variables": {},
   "exception": null,
   "input_path": "__notebook__.ipynb",
   "output_path": "__notebook__.ipynb",
   "parameters": {},
   "start_time": "2021-07-26T06:10:23.680203",
   "version": "2.3.3"
  }
 },
 "nbformat": 4,
 "nbformat_minor": 5
}
